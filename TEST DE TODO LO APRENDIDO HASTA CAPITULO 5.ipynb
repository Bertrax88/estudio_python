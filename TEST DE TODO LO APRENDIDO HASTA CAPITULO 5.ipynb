{
 "metadata": {
  "language_info": {
   "codemirror_mode": {
    "name": "ipython",
    "version": 3
   },
   "file_extension": ".py",
   "mimetype": "text/x-python",
   "name": "python",
   "nbconvert_exporter": "python",
   "pygments_lexer": "ipython3",
   "version": "3.10.0-final"
  },
  "orig_nbformat": 2,
  "kernelspec": {
   "name": "python3",
   "display_name": "Python 3.10.0 64-bit",
   "metadata": {
    "interpreter": {
     "hash": "33541a670e8887513ebdf0f19cec6625b51694c5ef6b1c7e83282c54d5cd54e5"
    }
   }
  }
 },
 "nbformat": 4,
 "nbformat_minor": 2,
 "cells": [
  {
   "source": [
    "# Ejercicio de prueba"
   ],
   "cell_type": "markdown",
   "metadata": {}
  },
  {
   "source": [
    "# Parte 1:"
   ],
   "cell_type": "markdown",
   "metadata": {}
  },
  {
   "source": [
    "1.1 Crear un dataframe dentro de python (desde un diccionario), el DataFrame debe contener: Regiones de Chile, Poblacion, PIB, GINI y IDH. Describa el dataframe"
   ],
   "cell_type": "markdown",
   "metadata": {}
  },
  {
   "cell_type": "code",
   "execution_count": 22,
   "metadata": {},
   "outputs": [
    {
     "output_type": "execute_result",
     "data": {
      "text/plain": [
       "                                Nombre_Region Abreviatura_Region  \\\n",
       "0                          Arica y Parinacota                 AP   \n",
       "1                                    Tarapacá                 TA   \n",
       "2                                 Antofagasta                 AN   \n",
       "3                                     Atacama                 AT   \n",
       "4                                    Coquimbo                 CO   \n",
       "5                                  Valparaiso                 VA   \n",
       "6                               Metropolitana                 RM   \n",
       "7       Libertador General Bernardo OHiggings                 LI   \n",
       "8                                       Maule                 ML   \n",
       "9                                       Ñuble                 NB   \n",
       "10                                     Biobio                 BI   \n",
       "11                               La Araucania                 AR   \n",
       "12                                   Los Rios                 LR   \n",
       "13                                  Los Lagos                 LL   \n",
       "14  Aysen del General Carlos Ibañez del Campo                 AI   \n",
       "15       Magallanes y de la Antartica Chilena                 MA   \n",
       "\n",
       "    Territorio_Region  Poblacion_Region  PIB_Region  GINI_Region  IDH_Region  \n",
       "0               16873            259802       10126        0.425       0.882  \n",
       "1               42225            406287       20379        0.429       0.882  \n",
       "2              126049            714142       37282        0.439       0.875  \n",
       "3               75176            319992       21094        0.454       0.855  \n",
       "4               40579            879267       11808        0.462       0.830  \n",
       "5               16396           2010849       12319        0.459       0.867  \n",
       "6               15403           8420729       16836        0.507       0.883  \n",
       "7               16387           1025586       13673        0.412       0.820  \n",
       "8               30296           1171982       11141        0.461       0.790  \n",
       "9               13178            521711        8467        0.480       0.826  \n",
       "10              23890           1681225       12296        0.480       0.826  \n",
       "11              31842           1028201        9276        0.503       0.786  \n",
       "12              18429            411205       10768        0.487       0.795  \n",
       "13              48583            907429       12757        0.486       0.795  \n",
       "14             108494            108306       18708        0.486       0.807  \n",
       "15             132297            182217       17284        0.464       0.864  "
      ],
      "text/html": "<div>\n<style scoped>\n    .dataframe tbody tr th:only-of-type {\n        vertical-align: middle;\n    }\n\n    .dataframe tbody tr th {\n        vertical-align: top;\n    }\n\n    .dataframe thead th {\n        text-align: right;\n    }\n</style>\n<table border=\"1\" class=\"dataframe\">\n  <thead>\n    <tr style=\"text-align: right;\">\n      <th></th>\n      <th>Nombre_Region</th>\n      <th>Abreviatura_Region</th>\n      <th>Territorio_Region</th>\n      <th>Poblacion_Region</th>\n      <th>PIB_Region</th>\n      <th>GINI_Region</th>\n      <th>IDH_Region</th>\n    </tr>\n  </thead>\n  <tbody>\n    <tr>\n      <th>0</th>\n      <td>Arica y Parinacota</td>\n      <td>AP</td>\n      <td>16873</td>\n      <td>259802</td>\n      <td>10126</td>\n      <td>0.425</td>\n      <td>0.882</td>\n    </tr>\n    <tr>\n      <th>1</th>\n      <td>Tarapacá</td>\n      <td>TA</td>\n      <td>42225</td>\n      <td>406287</td>\n      <td>20379</td>\n      <td>0.429</td>\n      <td>0.882</td>\n    </tr>\n    <tr>\n      <th>2</th>\n      <td>Antofagasta</td>\n      <td>AN</td>\n      <td>126049</td>\n      <td>714142</td>\n      <td>37282</td>\n      <td>0.439</td>\n      <td>0.875</td>\n    </tr>\n    <tr>\n      <th>3</th>\n      <td>Atacama</td>\n      <td>AT</td>\n      <td>75176</td>\n      <td>319992</td>\n      <td>21094</td>\n      <td>0.454</td>\n      <td>0.855</td>\n    </tr>\n    <tr>\n      <th>4</th>\n      <td>Coquimbo</td>\n      <td>CO</td>\n      <td>40579</td>\n      <td>879267</td>\n      <td>11808</td>\n      <td>0.462</td>\n      <td>0.830</td>\n    </tr>\n    <tr>\n      <th>5</th>\n      <td>Valparaiso</td>\n      <td>VA</td>\n      <td>16396</td>\n      <td>2010849</td>\n      <td>12319</td>\n      <td>0.459</td>\n      <td>0.867</td>\n    </tr>\n    <tr>\n      <th>6</th>\n      <td>Metropolitana</td>\n      <td>RM</td>\n      <td>15403</td>\n      <td>8420729</td>\n      <td>16836</td>\n      <td>0.507</td>\n      <td>0.883</td>\n    </tr>\n    <tr>\n      <th>7</th>\n      <td>Libertador General Bernardo OHiggings</td>\n      <td>LI</td>\n      <td>16387</td>\n      <td>1025586</td>\n      <td>13673</td>\n      <td>0.412</td>\n      <td>0.820</td>\n    </tr>\n    <tr>\n      <th>8</th>\n      <td>Maule</td>\n      <td>ML</td>\n      <td>30296</td>\n      <td>1171982</td>\n      <td>11141</td>\n      <td>0.461</td>\n      <td>0.790</td>\n    </tr>\n    <tr>\n      <th>9</th>\n      <td>Ñuble</td>\n      <td>NB</td>\n      <td>13178</td>\n      <td>521711</td>\n      <td>8467</td>\n      <td>0.480</td>\n      <td>0.826</td>\n    </tr>\n    <tr>\n      <th>10</th>\n      <td>Biobio</td>\n      <td>BI</td>\n      <td>23890</td>\n      <td>1681225</td>\n      <td>12296</td>\n      <td>0.480</td>\n      <td>0.826</td>\n    </tr>\n    <tr>\n      <th>11</th>\n      <td>La Araucania</td>\n      <td>AR</td>\n      <td>31842</td>\n      <td>1028201</td>\n      <td>9276</td>\n      <td>0.503</td>\n      <td>0.786</td>\n    </tr>\n    <tr>\n      <th>12</th>\n      <td>Los Rios</td>\n      <td>LR</td>\n      <td>18429</td>\n      <td>411205</td>\n      <td>10768</td>\n      <td>0.487</td>\n      <td>0.795</td>\n    </tr>\n    <tr>\n      <th>13</th>\n      <td>Los Lagos</td>\n      <td>LL</td>\n      <td>48583</td>\n      <td>907429</td>\n      <td>12757</td>\n      <td>0.486</td>\n      <td>0.795</td>\n    </tr>\n    <tr>\n      <th>14</th>\n      <td>Aysen del General Carlos Ibañez del Campo</td>\n      <td>AI</td>\n      <td>108494</td>\n      <td>108306</td>\n      <td>18708</td>\n      <td>0.486</td>\n      <td>0.807</td>\n    </tr>\n    <tr>\n      <th>15</th>\n      <td>Magallanes y de la Antartica Chilena</td>\n      <td>MA</td>\n      <td>132297</td>\n      <td>182217</td>\n      <td>17284</td>\n      <td>0.464</td>\n      <td>0.864</td>\n    </tr>\n  </tbody>\n</table>\n</div>"
     },
     "metadata": {},
     "execution_count": 22
    }
   ],
   "source": [
    "import pandas as pd\n",
    "import numpy as np\n",
    "import random as rd\n",
    "#creamos el dataframe\n",
    "Nombre_Region=['Arica y Parinacota','Tarapacá','Antofagasta','Atacama','Coquimbo','Valparaiso','Metropolitana','Libertador General Bernardo OHiggings','Maule','Ñuble','Biobio','La Araucania','Los Rios','Los Lagos','Aysen del General Carlos Ibañez del Campo','Magallanes y de la Antartica Chilena']\n",
    "Abreviatura_Region=['AP','TA','AN','AT','CO','VA','RM','LI','ML','NB','BI','AR','LR','LL','AI','MA']\n",
    "Territorio_Region=[16873,42225,126049,75176,40579,16396,15403,16387,30296,13178,23890,31842,18429,48583,108494,132297]\n",
    "Poblacion_Region=[259802,406287,714142,319992,879267,2010849,8420729,1025586,1171982,521711,1681225,1028201,411205,907429,108306,182217]\n",
    "PIB_Region=[10126,20379,37282,21094,11808,12319,16836,13673,11141,8467,12296,9276,10768,12757,18708,17284]\n",
    "GINI_Region=[0.425,0.429,0.439,0.454,0.462,0.459,0.507,0.412,0.461,0.480,0.480,0.503,0.487,0.486,0.486,0.464]\n",
    "IDH_Region=[0.882,0.882,0.875,0.855,0.830,0.867,0.883,0.820,0.790,0.826,0.826,0.786,0.795,0.795,0.807,0.864]\n",
    "CHILE_REGIONES={'Nombre_Region':Nombre_Region,'Abreviatura_Region':Abreviatura_Region,'Territorio_Region':Territorio_Region,'Poblacion_Region':Poblacion_Region,'PIB_Region':PIB_Region,'GINI_Region':GINI_Region,'IDH_Region':IDH_Region}\n",
    "\n",
    "CHILE_DATAFRAME=pd.DataFrame(CHILE_REGIONES)\n",
    "CHILE_DATAFRAME"
   ]
  },
  {
   "cell_type": "code",
   "execution_count": 51,
   "metadata": {},
   "outputs": [
    {
     "output_type": "execute_result",
     "data": {
      "text/plain": [
       "       Territorio_Region  Poblacion_Region  PIB_Region  GINI_Region  \\\n",
       "count              16.00             16.00       16.00        16.00   \n",
       "mean            47256.06        1253058.12    15263.38         0.46   \n",
       "std             40782.40        1984380.71     7058.17         0.03   \n",
       "min             13178.00         108306.00     8467.00         0.41   \n",
       "25%             16753.75         384713.25    11047.75         0.45   \n",
       "50%             31069.00         796704.50    12538.00         0.46   \n",
       "75%             55231.25        1064146.25    17640.00         0.49   \n",
       "max            132297.00        8420729.00    37282.00         0.51   \n",
       "\n",
       "       IDH_Region  \n",
       "count       16.00  \n",
       "mean         0.84  \n",
       "std          0.04  \n",
       "min          0.79  \n",
       "25%          0.80  \n",
       "50%          0.83  \n",
       "75%          0.87  \n",
       "max          0.88  "
      ],
      "text/html": "<div>\n<style scoped>\n    .dataframe tbody tr th:only-of-type {\n        vertical-align: middle;\n    }\n\n    .dataframe tbody tr th {\n        vertical-align: top;\n    }\n\n    .dataframe thead th {\n        text-align: right;\n    }\n</style>\n<table border=\"1\" class=\"dataframe\">\n  <thead>\n    <tr style=\"text-align: right;\">\n      <th></th>\n      <th>Territorio_Region</th>\n      <th>Poblacion_Region</th>\n      <th>PIB_Region</th>\n      <th>GINI_Region</th>\n      <th>IDH_Region</th>\n    </tr>\n  </thead>\n  <tbody>\n    <tr>\n      <th>count</th>\n      <td>16.00</td>\n      <td>16.00</td>\n      <td>16.00</td>\n      <td>16.00</td>\n      <td>16.00</td>\n    </tr>\n    <tr>\n      <th>mean</th>\n      <td>47256.06</td>\n      <td>1253058.12</td>\n      <td>15263.38</td>\n      <td>0.46</td>\n      <td>0.84</td>\n    </tr>\n    <tr>\n      <th>std</th>\n      <td>40782.40</td>\n      <td>1984380.71</td>\n      <td>7058.17</td>\n      <td>0.03</td>\n      <td>0.04</td>\n    </tr>\n    <tr>\n      <th>min</th>\n      <td>13178.00</td>\n      <td>108306.00</td>\n      <td>8467.00</td>\n      <td>0.41</td>\n      <td>0.79</td>\n    </tr>\n    <tr>\n      <th>25%</th>\n      <td>16753.75</td>\n      <td>384713.25</td>\n      <td>11047.75</td>\n      <td>0.45</td>\n      <td>0.80</td>\n    </tr>\n    <tr>\n      <th>50%</th>\n      <td>31069.00</td>\n      <td>796704.50</td>\n      <td>12538.00</td>\n      <td>0.46</td>\n      <td>0.83</td>\n    </tr>\n    <tr>\n      <th>75%</th>\n      <td>55231.25</td>\n      <td>1064146.25</td>\n      <td>17640.00</td>\n      <td>0.49</td>\n      <td>0.87</td>\n    </tr>\n    <tr>\n      <th>max</th>\n      <td>132297.00</td>\n      <td>8420729.00</td>\n      <td>37282.00</td>\n      <td>0.51</td>\n      <td>0.88</td>\n    </tr>\n  </tbody>\n</table>\n</div>"
     },
     "metadata": {},
     "execution_count": 51
    }
   ],
   "source": [
    "pd.options.display.float_format = '{:.2f}'.format\n",
    "CHILE_DATAFRAME.describe()"
   ]
  },
  {
   "source": [
    "1.2 Agregar una columna donde usted diga si lo visito o no, llamela Turismo_Propio. haga una columna con assign() y otra con insert()"
   ],
   "cell_type": "markdown",
   "metadata": {}
  },
  {
   "cell_type": "code",
   "execution_count": 25,
   "metadata": {},
   "outputs": [
    {
     "output_type": "execute_result",
     "data": {
      "text/plain": [
       "                                Nombre_Region Abreviatura_Region  \\\n",
       "0                          Arica y Parinacota                 AP   \n",
       "1                                    Tarapacá                 TA   \n",
       "2                                 Antofagasta                 AN   \n",
       "3                                     Atacama                 AT   \n",
       "4                                    Coquimbo                 CO   \n",
       "5                                  Valparaiso                 VA   \n",
       "6                               Metropolitana                 RM   \n",
       "7       Libertador General Bernardo OHiggings                 LI   \n",
       "8                                       Maule                 ML   \n",
       "9                                       Ñuble                 NB   \n",
       "10                                     Biobio                 BI   \n",
       "11                               La Araucania                 AR   \n",
       "12                                   Los Rios                 LR   \n",
       "13                                  Los Lagos                 LL   \n",
       "14  Aysen del General Carlos Ibañez del Campo                 AI   \n",
       "15       Magallanes y de la Antartica Chilena                 MA   \n",
       "\n",
       "    Territorio_Region  Poblacion_Region  PIB_Region  GINI_Region  IDH_Region  \\\n",
       "0               16873            259802       10126        0.425       0.882   \n",
       "1               42225            406287       20379        0.429       0.882   \n",
       "2              126049            714142       37282        0.439       0.875   \n",
       "3               75176            319992       21094        0.454       0.855   \n",
       "4               40579            879267       11808        0.462       0.830   \n",
       "5               16396           2010849       12319        0.459       0.867   \n",
       "6               15403           8420729       16836        0.507       0.883   \n",
       "7               16387           1025586       13673        0.412       0.820   \n",
       "8               30296           1171982       11141        0.461       0.790   \n",
       "9               13178            521711        8467        0.480       0.826   \n",
       "10              23890           1681225       12296        0.480       0.826   \n",
       "11              31842           1028201        9276        0.503       0.786   \n",
       "12              18429            411205       10768        0.487       0.795   \n",
       "13              48583            907429       12757        0.486       0.795   \n",
       "14             108494            108306       18708        0.486       0.807   \n",
       "15             132297            182217       17284        0.464       0.864   \n",
       "\n",
       "   Turismo_Propio  \n",
       "0              si  \n",
       "1              no  \n",
       "2              si  \n",
       "3              si  \n",
       "4              si  \n",
       "5              si  \n",
       "6              si  \n",
       "7              no  \n",
       "8              si  \n",
       "9              si  \n",
       "10             no  \n",
       "11             no  \n",
       "12             si  \n",
       "13             no  \n",
       "14             si  \n",
       "15             si  "
      ],
      "text/html": "<div>\n<style scoped>\n    .dataframe tbody tr th:only-of-type {\n        vertical-align: middle;\n    }\n\n    .dataframe tbody tr th {\n        vertical-align: top;\n    }\n\n    .dataframe thead th {\n        text-align: right;\n    }\n</style>\n<table border=\"1\" class=\"dataframe\">\n  <thead>\n    <tr style=\"text-align: right;\">\n      <th></th>\n      <th>Nombre_Region</th>\n      <th>Abreviatura_Region</th>\n      <th>Territorio_Region</th>\n      <th>Poblacion_Region</th>\n      <th>PIB_Region</th>\n      <th>GINI_Region</th>\n      <th>IDH_Region</th>\n      <th>Turismo_Propio</th>\n    </tr>\n  </thead>\n  <tbody>\n    <tr>\n      <th>0</th>\n      <td>Arica y Parinacota</td>\n      <td>AP</td>\n      <td>16873</td>\n      <td>259802</td>\n      <td>10126</td>\n      <td>0.425</td>\n      <td>0.882</td>\n      <td>si</td>\n    </tr>\n    <tr>\n      <th>1</th>\n      <td>Tarapacá</td>\n      <td>TA</td>\n      <td>42225</td>\n      <td>406287</td>\n      <td>20379</td>\n      <td>0.429</td>\n      <td>0.882</td>\n      <td>no</td>\n    </tr>\n    <tr>\n      <th>2</th>\n      <td>Antofagasta</td>\n      <td>AN</td>\n      <td>126049</td>\n      <td>714142</td>\n      <td>37282</td>\n      <td>0.439</td>\n      <td>0.875</td>\n      <td>si</td>\n    </tr>\n    <tr>\n      <th>3</th>\n      <td>Atacama</td>\n      <td>AT</td>\n      <td>75176</td>\n      <td>319992</td>\n      <td>21094</td>\n      <td>0.454</td>\n      <td>0.855</td>\n      <td>si</td>\n    </tr>\n    <tr>\n      <th>4</th>\n      <td>Coquimbo</td>\n      <td>CO</td>\n      <td>40579</td>\n      <td>879267</td>\n      <td>11808</td>\n      <td>0.462</td>\n      <td>0.830</td>\n      <td>si</td>\n    </tr>\n    <tr>\n      <th>5</th>\n      <td>Valparaiso</td>\n      <td>VA</td>\n      <td>16396</td>\n      <td>2010849</td>\n      <td>12319</td>\n      <td>0.459</td>\n      <td>0.867</td>\n      <td>si</td>\n    </tr>\n    <tr>\n      <th>6</th>\n      <td>Metropolitana</td>\n      <td>RM</td>\n      <td>15403</td>\n      <td>8420729</td>\n      <td>16836</td>\n      <td>0.507</td>\n      <td>0.883</td>\n      <td>si</td>\n    </tr>\n    <tr>\n      <th>7</th>\n      <td>Libertador General Bernardo OHiggings</td>\n      <td>LI</td>\n      <td>16387</td>\n      <td>1025586</td>\n      <td>13673</td>\n      <td>0.412</td>\n      <td>0.820</td>\n      <td>no</td>\n    </tr>\n    <tr>\n      <th>8</th>\n      <td>Maule</td>\n      <td>ML</td>\n      <td>30296</td>\n      <td>1171982</td>\n      <td>11141</td>\n      <td>0.461</td>\n      <td>0.790</td>\n      <td>si</td>\n    </tr>\n    <tr>\n      <th>9</th>\n      <td>Ñuble</td>\n      <td>NB</td>\n      <td>13178</td>\n      <td>521711</td>\n      <td>8467</td>\n      <td>0.480</td>\n      <td>0.826</td>\n      <td>si</td>\n    </tr>\n    <tr>\n      <th>10</th>\n      <td>Biobio</td>\n      <td>BI</td>\n      <td>23890</td>\n      <td>1681225</td>\n      <td>12296</td>\n      <td>0.480</td>\n      <td>0.826</td>\n      <td>no</td>\n    </tr>\n    <tr>\n      <th>11</th>\n      <td>La Araucania</td>\n      <td>AR</td>\n      <td>31842</td>\n      <td>1028201</td>\n      <td>9276</td>\n      <td>0.503</td>\n      <td>0.786</td>\n      <td>no</td>\n    </tr>\n    <tr>\n      <th>12</th>\n      <td>Los Rios</td>\n      <td>LR</td>\n      <td>18429</td>\n      <td>411205</td>\n      <td>10768</td>\n      <td>0.487</td>\n      <td>0.795</td>\n      <td>si</td>\n    </tr>\n    <tr>\n      <th>13</th>\n      <td>Los Lagos</td>\n      <td>LL</td>\n      <td>48583</td>\n      <td>907429</td>\n      <td>12757</td>\n      <td>0.486</td>\n      <td>0.795</td>\n      <td>no</td>\n    </tr>\n    <tr>\n      <th>14</th>\n      <td>Aysen del General Carlos Ibañez del Campo</td>\n      <td>AI</td>\n      <td>108494</td>\n      <td>108306</td>\n      <td>18708</td>\n      <td>0.486</td>\n      <td>0.807</td>\n      <td>si</td>\n    </tr>\n    <tr>\n      <th>15</th>\n      <td>Magallanes y de la Antartica Chilena</td>\n      <td>MA</td>\n      <td>132297</td>\n      <td>182217</td>\n      <td>17284</td>\n      <td>0.464</td>\n      <td>0.864</td>\n      <td>si</td>\n    </tr>\n  </tbody>\n</table>\n</div>"
     },
     "metadata": {},
     "execution_count": 25
    }
   ],
   "source": [
    "CHILE_DATAFRAME['Turismo_Propio']=['si','no','si','si','si','si','si','no','si','si','no','no','si','no','si','si']\n",
    "CHILE_DATAFRAME"
   ]
  },
  {
   "source": [
    "1.3 Generar una copia del DataFrame, filtrando solo las regiones que usted a visitado, y reindexar las filas del nuevo DataFrame"
   ],
   "cell_type": "markdown",
   "metadata": {}
  },
  {
   "cell_type": "code",
   "execution_count": 32,
   "metadata": {},
   "outputs": [],
   "source": [
    "#metodo uno\n",
    "CHILE_DATAFRAME_SI=CHILE_DATAFRAME[CHILE_DATAFRAME['Turismo_Propio']=='si']\n",
    "CHILE_DATAFRAME_NO=CHILE_DATAFRAME[CHILE_DATAFRAME['Turismo_Propio']=='no']"
   ]
  },
  {
   "cell_type": "code",
   "execution_count": 37,
   "metadata": {},
   "outputs": [
    {
     "output_type": "execute_result",
     "data": {
      "text/plain": [
       "                                Nombre_Region Abreviatura_Region  \\\n",
       "0                          Arica y Parinacota                 AP   \n",
       "1                                 Antofagasta                 AN   \n",
       "2                                     Atacama                 AT   \n",
       "3                                    Coquimbo                 CO   \n",
       "4                                  Valparaiso                 VA   \n",
       "5                               Metropolitana                 RM   \n",
       "6                                       Maule                 ML   \n",
       "7                                       Ñuble                 NB   \n",
       "8                                    Los Rios                 LR   \n",
       "9   Aysen del General Carlos Ibañez del Campo                 AI   \n",
       "10       Magallanes y de la Antartica Chilena                 MA   \n",
       "\n",
       "    Territorio_Region  Poblacion_Region  PIB_Region  GINI_Region  IDH_Region  \\\n",
       "0               16873            259802       10126        0.425       0.882   \n",
       "1              126049            714142       37282        0.439       0.875   \n",
       "2               75176            319992       21094        0.454       0.855   \n",
       "3               40579            879267       11808        0.462       0.830   \n",
       "4               16396           2010849       12319        0.459       0.867   \n",
       "5               15403           8420729       16836        0.507       0.883   \n",
       "6               30296           1171982       11141        0.461       0.790   \n",
       "7               13178            521711        8467        0.480       0.826   \n",
       "8               18429            411205       10768        0.487       0.795   \n",
       "9              108494            108306       18708        0.486       0.807   \n",
       "10             132297            182217       17284        0.464       0.864   \n",
       "\n",
       "   Turismo_Propio  \n",
       "0              si  \n",
       "1              si  \n",
       "2              si  \n",
       "3              si  \n",
       "4              si  \n",
       "5              si  \n",
       "6              si  \n",
       "7              si  \n",
       "8              si  \n",
       "9              si  \n",
       "10             si  "
      ],
      "text/html": "<div>\n<style scoped>\n    .dataframe tbody tr th:only-of-type {\n        vertical-align: middle;\n    }\n\n    .dataframe tbody tr th {\n        vertical-align: top;\n    }\n\n    .dataframe thead th {\n        text-align: right;\n    }\n</style>\n<table border=\"1\" class=\"dataframe\">\n  <thead>\n    <tr style=\"text-align: right;\">\n      <th></th>\n      <th>Nombre_Region</th>\n      <th>Abreviatura_Region</th>\n      <th>Territorio_Region</th>\n      <th>Poblacion_Region</th>\n      <th>PIB_Region</th>\n      <th>GINI_Region</th>\n      <th>IDH_Region</th>\n      <th>Turismo_Propio</th>\n    </tr>\n  </thead>\n  <tbody>\n    <tr>\n      <th>0</th>\n      <td>Arica y Parinacota</td>\n      <td>AP</td>\n      <td>16873</td>\n      <td>259802</td>\n      <td>10126</td>\n      <td>0.425</td>\n      <td>0.882</td>\n      <td>si</td>\n    </tr>\n    <tr>\n      <th>1</th>\n      <td>Antofagasta</td>\n      <td>AN</td>\n      <td>126049</td>\n      <td>714142</td>\n      <td>37282</td>\n      <td>0.439</td>\n      <td>0.875</td>\n      <td>si</td>\n    </tr>\n    <tr>\n      <th>2</th>\n      <td>Atacama</td>\n      <td>AT</td>\n      <td>75176</td>\n      <td>319992</td>\n      <td>21094</td>\n      <td>0.454</td>\n      <td>0.855</td>\n      <td>si</td>\n    </tr>\n    <tr>\n      <th>3</th>\n      <td>Coquimbo</td>\n      <td>CO</td>\n      <td>40579</td>\n      <td>879267</td>\n      <td>11808</td>\n      <td>0.462</td>\n      <td>0.830</td>\n      <td>si</td>\n    </tr>\n    <tr>\n      <th>4</th>\n      <td>Valparaiso</td>\n      <td>VA</td>\n      <td>16396</td>\n      <td>2010849</td>\n      <td>12319</td>\n      <td>0.459</td>\n      <td>0.867</td>\n      <td>si</td>\n    </tr>\n    <tr>\n      <th>5</th>\n      <td>Metropolitana</td>\n      <td>RM</td>\n      <td>15403</td>\n      <td>8420729</td>\n      <td>16836</td>\n      <td>0.507</td>\n      <td>0.883</td>\n      <td>si</td>\n    </tr>\n    <tr>\n      <th>6</th>\n      <td>Maule</td>\n      <td>ML</td>\n      <td>30296</td>\n      <td>1171982</td>\n      <td>11141</td>\n      <td>0.461</td>\n      <td>0.790</td>\n      <td>si</td>\n    </tr>\n    <tr>\n      <th>7</th>\n      <td>Ñuble</td>\n      <td>NB</td>\n      <td>13178</td>\n      <td>521711</td>\n      <td>8467</td>\n      <td>0.480</td>\n      <td>0.826</td>\n      <td>si</td>\n    </tr>\n    <tr>\n      <th>8</th>\n      <td>Los Rios</td>\n      <td>LR</td>\n      <td>18429</td>\n      <td>411205</td>\n      <td>10768</td>\n      <td>0.487</td>\n      <td>0.795</td>\n      <td>si</td>\n    </tr>\n    <tr>\n      <th>9</th>\n      <td>Aysen del General Carlos Ibañez del Campo</td>\n      <td>AI</td>\n      <td>108494</td>\n      <td>108306</td>\n      <td>18708</td>\n      <td>0.486</td>\n      <td>0.807</td>\n      <td>si</td>\n    </tr>\n    <tr>\n      <th>10</th>\n      <td>Magallanes y de la Antartica Chilena</td>\n      <td>MA</td>\n      <td>132297</td>\n      <td>182217</td>\n      <td>17284</td>\n      <td>0.464</td>\n      <td>0.864</td>\n      <td>si</td>\n    </tr>\n  </tbody>\n</table>\n</div>"
     },
     "metadata": {},
     "execution_count": 37
    }
   ],
   "source": [
    "CHILE_DATAFRAME_SI=CHILE_DATAFRAME_SI.reset_index(drop=True)\n",
    "CHILE_DATAFRAME_SI"
   ]
  },
  {
   "source": [
    "1.4 Del Dataframe original, haga usando un value_counts(), vea cuantos regiones visito y cuantos no. Saque el % de visita que tiene usted en chile"
   ],
   "cell_type": "markdown",
   "metadata": {}
  },
  {
   "cell_type": "code",
   "execution_count": 41,
   "metadata": {},
   "outputs": [
    {
     "output_type": "stream",
     "name": "stdout",
     "text": [
      "si    68.75\nno    31.25\nName: Turismo_Propio, dtype: float64\n"
     ]
    }
   ],
   "source": [
    "porcentaje=100*CHILE_DATAFRAME['Turismo_Propio'].value_counts()/len(CHILE_DATAFRAME)\n",
    "print(porcentaje)"
   ]
  },
  {
   "source": [
    "1.5 Contraste el promedio del pib percapita de los paises visitados y los no visitados"
   ],
   "cell_type": "markdown",
   "metadata": {}
  },
  {
   "cell_type": "code",
   "execution_count": 47,
   "metadata": {},
   "outputs": [
    {
     "output_type": "stream",
     "name": "stdout",
     "text": [
      "15985 2\n13676 2\n"
     ]
    }
   ],
   "source": [
    "promedio_si=CHILE_DATAFRAME_SI['PIB_Region'].mean()\n",
    "promedio_no=CHILE_DATAFRAME_NO['PIB_Region'].mean()\n",
    "print(round(promedio_si),2)\n",
    "print(round(promedio_no),2)"
   ]
  },
  {
   "source": [
    "1.6 Ordene mediante sort_values() los paises por indice percapita, y reindexe con este orden con set_index o sort_index"
   ],
   "cell_type": "markdown",
   "metadata": {}
  },
  {
   "cell_type": "code",
   "execution_count": 52,
   "metadata": {},
   "outputs": [
    {
     "output_type": "execute_result",
     "data": {
      "text/plain": [
       "                                Nombre_Region Abreviatura_Region  \\\n",
       "0                                 Antofagasta                 AN   \n",
       "1                                     Atacama                 AT   \n",
       "2                                    Tarapacá                 TA   \n",
       "3   Aysen del General Carlos Ibañez del Campo                 AI   \n",
       "4        Magallanes y de la Antartica Chilena                 MA   \n",
       "5                               Metropolitana                 RM   \n",
       "6       Libertador General Bernardo OHiggings                 LI   \n",
       "7                                   Los Lagos                 LL   \n",
       "8                                  Valparaiso                 VA   \n",
       "9                                      Biobio                 BI   \n",
       "10                                   Coquimbo                 CO   \n",
       "11                                      Maule                 ML   \n",
       "12                                   Los Rios                 LR   \n",
       "13                         Arica y Parinacota                 AP   \n",
       "14                               La Araucania                 AR   \n",
       "15                                      Ñuble                 NB   \n",
       "\n",
       "    Territorio_Region  Poblacion_Region  PIB_Region  GINI_Region  IDH_Region  \\\n",
       "0              126049            714142       37282         0.44        0.88   \n",
       "1               75176            319992       21094         0.45        0.85   \n",
       "2               42225            406287       20379         0.43        0.88   \n",
       "3              108494            108306       18708         0.49        0.81   \n",
       "4              132297            182217       17284         0.46        0.86   \n",
       "5               15403           8420729       16836         0.51        0.88   \n",
       "6               16387           1025586       13673         0.41        0.82   \n",
       "7               48583            907429       12757         0.49        0.80   \n",
       "8               16396           2010849       12319         0.46        0.87   \n",
       "9               23890           1681225       12296         0.48        0.83   \n",
       "10              40579            879267       11808         0.46        0.83   \n",
       "11              30296           1171982       11141         0.46        0.79   \n",
       "12              18429            411205       10768         0.49        0.80   \n",
       "13              16873            259802       10126         0.42        0.88   \n",
       "14              31842           1028201        9276         0.50        0.79   \n",
       "15              13178            521711        8467         0.48        0.83   \n",
       "\n",
       "   Turismo_Propio  \n",
       "0              si  \n",
       "1              si  \n",
       "2              no  \n",
       "3              si  \n",
       "4              si  \n",
       "5              si  \n",
       "6              no  \n",
       "7              no  \n",
       "8              si  \n",
       "9              no  \n",
       "10             si  \n",
       "11             si  \n",
       "12             si  \n",
       "13             si  \n",
       "14             no  \n",
       "15             si  "
      ],
      "text/html": "<div>\n<style scoped>\n    .dataframe tbody tr th:only-of-type {\n        vertical-align: middle;\n    }\n\n    .dataframe tbody tr th {\n        vertical-align: top;\n    }\n\n    .dataframe thead th {\n        text-align: right;\n    }\n</style>\n<table border=\"1\" class=\"dataframe\">\n  <thead>\n    <tr style=\"text-align: right;\">\n      <th></th>\n      <th>Nombre_Region</th>\n      <th>Abreviatura_Region</th>\n      <th>Territorio_Region</th>\n      <th>Poblacion_Region</th>\n      <th>PIB_Region</th>\n      <th>GINI_Region</th>\n      <th>IDH_Region</th>\n      <th>Turismo_Propio</th>\n    </tr>\n  </thead>\n  <tbody>\n    <tr>\n      <th>0</th>\n      <td>Antofagasta</td>\n      <td>AN</td>\n      <td>126049</td>\n      <td>714142</td>\n      <td>37282</td>\n      <td>0.44</td>\n      <td>0.88</td>\n      <td>si</td>\n    </tr>\n    <tr>\n      <th>1</th>\n      <td>Atacama</td>\n      <td>AT</td>\n      <td>75176</td>\n      <td>319992</td>\n      <td>21094</td>\n      <td>0.45</td>\n      <td>0.85</td>\n      <td>si</td>\n    </tr>\n    <tr>\n      <th>2</th>\n      <td>Tarapacá</td>\n      <td>TA</td>\n      <td>42225</td>\n      <td>406287</td>\n      <td>20379</td>\n      <td>0.43</td>\n      <td>0.88</td>\n      <td>no</td>\n    </tr>\n    <tr>\n      <th>3</th>\n      <td>Aysen del General Carlos Ibañez del Campo</td>\n      <td>AI</td>\n      <td>108494</td>\n      <td>108306</td>\n      <td>18708</td>\n      <td>0.49</td>\n      <td>0.81</td>\n      <td>si</td>\n    </tr>\n    <tr>\n      <th>4</th>\n      <td>Magallanes y de la Antartica Chilena</td>\n      <td>MA</td>\n      <td>132297</td>\n      <td>182217</td>\n      <td>17284</td>\n      <td>0.46</td>\n      <td>0.86</td>\n      <td>si</td>\n    </tr>\n    <tr>\n      <th>5</th>\n      <td>Metropolitana</td>\n      <td>RM</td>\n      <td>15403</td>\n      <td>8420729</td>\n      <td>16836</td>\n      <td>0.51</td>\n      <td>0.88</td>\n      <td>si</td>\n    </tr>\n    <tr>\n      <th>6</th>\n      <td>Libertador General Bernardo OHiggings</td>\n      <td>LI</td>\n      <td>16387</td>\n      <td>1025586</td>\n      <td>13673</td>\n      <td>0.41</td>\n      <td>0.82</td>\n      <td>no</td>\n    </tr>\n    <tr>\n      <th>7</th>\n      <td>Los Lagos</td>\n      <td>LL</td>\n      <td>48583</td>\n      <td>907429</td>\n      <td>12757</td>\n      <td>0.49</td>\n      <td>0.80</td>\n      <td>no</td>\n    </tr>\n    <tr>\n      <th>8</th>\n      <td>Valparaiso</td>\n      <td>VA</td>\n      <td>16396</td>\n      <td>2010849</td>\n      <td>12319</td>\n      <td>0.46</td>\n      <td>0.87</td>\n      <td>si</td>\n    </tr>\n    <tr>\n      <th>9</th>\n      <td>Biobio</td>\n      <td>BI</td>\n      <td>23890</td>\n      <td>1681225</td>\n      <td>12296</td>\n      <td>0.48</td>\n      <td>0.83</td>\n      <td>no</td>\n    </tr>\n    <tr>\n      <th>10</th>\n      <td>Coquimbo</td>\n      <td>CO</td>\n      <td>40579</td>\n      <td>879267</td>\n      <td>11808</td>\n      <td>0.46</td>\n      <td>0.83</td>\n      <td>si</td>\n    </tr>\n    <tr>\n      <th>11</th>\n      <td>Maule</td>\n      <td>ML</td>\n      <td>30296</td>\n      <td>1171982</td>\n      <td>11141</td>\n      <td>0.46</td>\n      <td>0.79</td>\n      <td>si</td>\n    </tr>\n    <tr>\n      <th>12</th>\n      <td>Los Rios</td>\n      <td>LR</td>\n      <td>18429</td>\n      <td>411205</td>\n      <td>10768</td>\n      <td>0.49</td>\n      <td>0.80</td>\n      <td>si</td>\n    </tr>\n    <tr>\n      <th>13</th>\n      <td>Arica y Parinacota</td>\n      <td>AP</td>\n      <td>16873</td>\n      <td>259802</td>\n      <td>10126</td>\n      <td>0.42</td>\n      <td>0.88</td>\n      <td>si</td>\n    </tr>\n    <tr>\n      <th>14</th>\n      <td>La Araucania</td>\n      <td>AR</td>\n      <td>31842</td>\n      <td>1028201</td>\n      <td>9276</td>\n      <td>0.50</td>\n      <td>0.79</td>\n      <td>no</td>\n    </tr>\n    <tr>\n      <th>15</th>\n      <td>Ñuble</td>\n      <td>NB</td>\n      <td>13178</td>\n      <td>521711</td>\n      <td>8467</td>\n      <td>0.48</td>\n      <td>0.83</td>\n      <td>si</td>\n    </tr>\n  </tbody>\n</table>\n</div>"
     },
     "metadata": {},
     "execution_count": 52
    }
   ],
   "source": [
    "CHILE_DATAFRAME.sort_values(['PIB_Region'],ascending=False).reset_index(drop=True)"
   ]
  },
  {
   "source": [
    "1.7 Use rename para a la columna Turismo_Propio, llamarla visitado"
   ],
   "cell_type": "markdown",
   "metadata": {}
  },
  {
   "cell_type": "code",
   "execution_count": 55,
   "metadata": {},
   "outputs": [
    {
     "output_type": "execute_result",
     "data": {
      "text/plain": [
       "                                Nombre_Region Abreviatura_Region  \\\n",
       "0                          Arica y Parinacota                 AP   \n",
       "1                                    Tarapacá                 TA   \n",
       "2                                 Antofagasta                 AN   \n",
       "3                                     Atacama                 AT   \n",
       "4                                    Coquimbo                 CO   \n",
       "5                                  Valparaiso                 VA   \n",
       "6                               Metropolitana                 RM   \n",
       "7       Libertador General Bernardo OHiggings                 LI   \n",
       "8                                       Maule                 ML   \n",
       "9                                       Ñuble                 NB   \n",
       "10                                     Biobio                 BI   \n",
       "11                               La Araucania                 AR   \n",
       "12                                   Los Rios                 LR   \n",
       "13                                  Los Lagos                 LL   \n",
       "14  Aysen del General Carlos Ibañez del Campo                 AI   \n",
       "15       Magallanes y de la Antartica Chilena                 MA   \n",
       "\n",
       "    Territorio_Region  Poblacion_Region  PIB_Region  GINI_Region  IDH_Region  \\\n",
       "0               16873            259802       10126         0.42        0.88   \n",
       "1               42225            406287       20379         0.43        0.88   \n",
       "2              126049            714142       37282         0.44        0.88   \n",
       "3               75176            319992       21094         0.45        0.85   \n",
       "4               40579            879267       11808         0.46        0.83   \n",
       "5               16396           2010849       12319         0.46        0.87   \n",
       "6               15403           8420729       16836         0.51        0.88   \n",
       "7               16387           1025586       13673         0.41        0.82   \n",
       "8               30296           1171982       11141         0.46        0.79   \n",
       "9               13178            521711        8467         0.48        0.83   \n",
       "10              23890           1681225       12296         0.48        0.83   \n",
       "11              31842           1028201        9276         0.50        0.79   \n",
       "12              18429            411205       10768         0.49        0.80   \n",
       "13              48583            907429       12757         0.49        0.80   \n",
       "14             108494            108306       18708         0.49        0.81   \n",
       "15             132297            182217       17284         0.46        0.86   \n",
       "\n",
       "   visitado  \n",
       "0        si  \n",
       "1        no  \n",
       "2        si  \n",
       "3        si  \n",
       "4        si  \n",
       "5        si  \n",
       "6        si  \n",
       "7        no  \n",
       "8        si  \n",
       "9        si  \n",
       "10       no  \n",
       "11       no  \n",
       "12       si  \n",
       "13       no  \n",
       "14       si  \n",
       "15       si  "
      ],
      "text/html": "<div>\n<style scoped>\n    .dataframe tbody tr th:only-of-type {\n        vertical-align: middle;\n    }\n\n    .dataframe tbody tr th {\n        vertical-align: top;\n    }\n\n    .dataframe thead th {\n        text-align: right;\n    }\n</style>\n<table border=\"1\" class=\"dataframe\">\n  <thead>\n    <tr style=\"text-align: right;\">\n      <th></th>\n      <th>Nombre_Region</th>\n      <th>Abreviatura_Region</th>\n      <th>Territorio_Region</th>\n      <th>Poblacion_Region</th>\n      <th>PIB_Region</th>\n      <th>GINI_Region</th>\n      <th>IDH_Region</th>\n      <th>visitado</th>\n    </tr>\n  </thead>\n  <tbody>\n    <tr>\n      <th>0</th>\n      <td>Arica y Parinacota</td>\n      <td>AP</td>\n      <td>16873</td>\n      <td>259802</td>\n      <td>10126</td>\n      <td>0.42</td>\n      <td>0.88</td>\n      <td>si</td>\n    </tr>\n    <tr>\n      <th>1</th>\n      <td>Tarapacá</td>\n      <td>TA</td>\n      <td>42225</td>\n      <td>406287</td>\n      <td>20379</td>\n      <td>0.43</td>\n      <td>0.88</td>\n      <td>no</td>\n    </tr>\n    <tr>\n      <th>2</th>\n      <td>Antofagasta</td>\n      <td>AN</td>\n      <td>126049</td>\n      <td>714142</td>\n      <td>37282</td>\n      <td>0.44</td>\n      <td>0.88</td>\n      <td>si</td>\n    </tr>\n    <tr>\n      <th>3</th>\n      <td>Atacama</td>\n      <td>AT</td>\n      <td>75176</td>\n      <td>319992</td>\n      <td>21094</td>\n      <td>0.45</td>\n      <td>0.85</td>\n      <td>si</td>\n    </tr>\n    <tr>\n      <th>4</th>\n      <td>Coquimbo</td>\n      <td>CO</td>\n      <td>40579</td>\n      <td>879267</td>\n      <td>11808</td>\n      <td>0.46</td>\n      <td>0.83</td>\n      <td>si</td>\n    </tr>\n    <tr>\n      <th>5</th>\n      <td>Valparaiso</td>\n      <td>VA</td>\n      <td>16396</td>\n      <td>2010849</td>\n      <td>12319</td>\n      <td>0.46</td>\n      <td>0.87</td>\n      <td>si</td>\n    </tr>\n    <tr>\n      <th>6</th>\n      <td>Metropolitana</td>\n      <td>RM</td>\n      <td>15403</td>\n      <td>8420729</td>\n      <td>16836</td>\n      <td>0.51</td>\n      <td>0.88</td>\n      <td>si</td>\n    </tr>\n    <tr>\n      <th>7</th>\n      <td>Libertador General Bernardo OHiggings</td>\n      <td>LI</td>\n      <td>16387</td>\n      <td>1025586</td>\n      <td>13673</td>\n      <td>0.41</td>\n      <td>0.82</td>\n      <td>no</td>\n    </tr>\n    <tr>\n      <th>8</th>\n      <td>Maule</td>\n      <td>ML</td>\n      <td>30296</td>\n      <td>1171982</td>\n      <td>11141</td>\n      <td>0.46</td>\n      <td>0.79</td>\n      <td>si</td>\n    </tr>\n    <tr>\n      <th>9</th>\n      <td>Ñuble</td>\n      <td>NB</td>\n      <td>13178</td>\n      <td>521711</td>\n      <td>8467</td>\n      <td>0.48</td>\n      <td>0.83</td>\n      <td>si</td>\n    </tr>\n    <tr>\n      <th>10</th>\n      <td>Biobio</td>\n      <td>BI</td>\n      <td>23890</td>\n      <td>1681225</td>\n      <td>12296</td>\n      <td>0.48</td>\n      <td>0.83</td>\n      <td>no</td>\n    </tr>\n    <tr>\n      <th>11</th>\n      <td>La Araucania</td>\n      <td>AR</td>\n      <td>31842</td>\n      <td>1028201</td>\n      <td>9276</td>\n      <td>0.50</td>\n      <td>0.79</td>\n      <td>no</td>\n    </tr>\n    <tr>\n      <th>12</th>\n      <td>Los Rios</td>\n      <td>LR</td>\n      <td>18429</td>\n      <td>411205</td>\n      <td>10768</td>\n      <td>0.49</td>\n      <td>0.80</td>\n      <td>si</td>\n    </tr>\n    <tr>\n      <th>13</th>\n      <td>Los Lagos</td>\n      <td>LL</td>\n      <td>48583</td>\n      <td>907429</td>\n      <td>12757</td>\n      <td>0.49</td>\n      <td>0.80</td>\n      <td>no</td>\n    </tr>\n    <tr>\n      <th>14</th>\n      <td>Aysen del General Carlos Ibañez del Campo</td>\n      <td>AI</td>\n      <td>108494</td>\n      <td>108306</td>\n      <td>18708</td>\n      <td>0.49</td>\n      <td>0.81</td>\n      <td>si</td>\n    </tr>\n    <tr>\n      <th>15</th>\n      <td>Magallanes y de la Antartica Chilena</td>\n      <td>MA</td>\n      <td>132297</td>\n      <td>182217</td>\n      <td>17284</td>\n      <td>0.46</td>\n      <td>0.86</td>\n      <td>si</td>\n    </tr>\n  </tbody>\n</table>\n</div>"
     },
     "metadata": {},
     "execution_count": 55
    }
   ],
   "source": [
    "CHILE_DATAFRAME=CHILE_DATAFRAME.rename(columns={'Turismo_Propio':'visitado'})\n",
    "CHILE_DATAFRAME"
   ]
  },
  {
   "source": [
    "1.8 Mover la columna GINI_REGION a IDH_Region"
   ],
   "cell_type": "markdown",
   "metadata": {}
  },
  {
   "cell_type": "code",
   "execution_count": 57,
   "metadata": {},
   "outputs": [
    {
     "output_type": "execute_result",
     "data": {
      "text/plain": [
       "['Nombre_Region',\n",
       " 'Abreviatura_Region',\n",
       " 'Territorio_Region',\n",
       " 'Poblacion_Region',\n",
       " 'PIB_Region',\n",
       " 'GINI_Region',\n",
       " 'IDH_Region',\n",
       " 'visitado']"
      ]
     },
     "metadata": {},
     "execution_count": 57
    }
   ],
   "source": [
    "columnas=CHILE_DATAFRAME.columns.tolist()\n",
    "columnas"
   ]
  },
  {
   "cell_type": "code",
   "execution_count": 61,
   "metadata": {},
   "outputs": [
    {
     "output_type": "execute_result",
     "data": {
      "text/plain": [
       "                                Nombre_Region Abreviatura_Region  \\\n",
       "0                          Arica y Parinacota                 AP   \n",
       "1                                    Tarapacá                 TA   \n",
       "2                                 Antofagasta                 AN   \n",
       "3                                     Atacama                 AT   \n",
       "4                                    Coquimbo                 CO   \n",
       "5                                  Valparaiso                 VA   \n",
       "6                               Metropolitana                 RM   \n",
       "7       Libertador General Bernardo OHiggings                 LI   \n",
       "8                                       Maule                 ML   \n",
       "9                                       Ñuble                 NB   \n",
       "10                                     Biobio                 BI   \n",
       "11                               La Araucania                 AR   \n",
       "12                                   Los Rios                 LR   \n",
       "13                                  Los Lagos                 LL   \n",
       "14  Aysen del General Carlos Ibañez del Campo                 AI   \n",
       "15       Magallanes y de la Antartica Chilena                 MA   \n",
       "\n",
       "    Territorio_Region  Poblacion_Region  PIB_Region  IDH_Region  GINI_Region  \\\n",
       "0               16873            259802       10126        0.88         0.42   \n",
       "1               42225            406287       20379        0.88         0.43   \n",
       "2              126049            714142       37282        0.88         0.44   \n",
       "3               75176            319992       21094        0.85         0.45   \n",
       "4               40579            879267       11808        0.83         0.46   \n",
       "5               16396           2010849       12319        0.87         0.46   \n",
       "6               15403           8420729       16836        0.88         0.51   \n",
       "7               16387           1025586       13673        0.82         0.41   \n",
       "8               30296           1171982       11141        0.79         0.46   \n",
       "9               13178            521711        8467        0.83         0.48   \n",
       "10              23890           1681225       12296        0.83         0.48   \n",
       "11              31842           1028201        9276        0.79         0.50   \n",
       "12              18429            411205       10768        0.80         0.49   \n",
       "13              48583            907429       12757        0.80         0.49   \n",
       "14             108494            108306       18708        0.81         0.49   \n",
       "15             132297            182217       17284        0.86         0.46   \n",
       "\n",
       "   visitado  \n",
       "0        si  \n",
       "1        no  \n",
       "2        si  \n",
       "3        si  \n",
       "4        si  \n",
       "5        si  \n",
       "6        si  \n",
       "7        no  \n",
       "8        si  \n",
       "9        si  \n",
       "10       no  \n",
       "11       no  \n",
       "12       si  \n",
       "13       no  \n",
       "14       si  \n",
       "15       si  "
      ],
      "text/html": "<div>\n<style scoped>\n    .dataframe tbody tr th:only-of-type {\n        vertical-align: middle;\n    }\n\n    .dataframe tbody tr th {\n        vertical-align: top;\n    }\n\n    .dataframe thead th {\n        text-align: right;\n    }\n</style>\n<table border=\"1\" class=\"dataframe\">\n  <thead>\n    <tr style=\"text-align: right;\">\n      <th></th>\n      <th>Nombre_Region</th>\n      <th>Abreviatura_Region</th>\n      <th>Territorio_Region</th>\n      <th>Poblacion_Region</th>\n      <th>PIB_Region</th>\n      <th>IDH_Region</th>\n      <th>GINI_Region</th>\n      <th>visitado</th>\n    </tr>\n  </thead>\n  <tbody>\n    <tr>\n      <th>0</th>\n      <td>Arica y Parinacota</td>\n      <td>AP</td>\n      <td>16873</td>\n      <td>259802</td>\n      <td>10126</td>\n      <td>0.88</td>\n      <td>0.42</td>\n      <td>si</td>\n    </tr>\n    <tr>\n      <th>1</th>\n      <td>Tarapacá</td>\n      <td>TA</td>\n      <td>42225</td>\n      <td>406287</td>\n      <td>20379</td>\n      <td>0.88</td>\n      <td>0.43</td>\n      <td>no</td>\n    </tr>\n    <tr>\n      <th>2</th>\n      <td>Antofagasta</td>\n      <td>AN</td>\n      <td>126049</td>\n      <td>714142</td>\n      <td>37282</td>\n      <td>0.88</td>\n      <td>0.44</td>\n      <td>si</td>\n    </tr>\n    <tr>\n      <th>3</th>\n      <td>Atacama</td>\n      <td>AT</td>\n      <td>75176</td>\n      <td>319992</td>\n      <td>21094</td>\n      <td>0.85</td>\n      <td>0.45</td>\n      <td>si</td>\n    </tr>\n    <tr>\n      <th>4</th>\n      <td>Coquimbo</td>\n      <td>CO</td>\n      <td>40579</td>\n      <td>879267</td>\n      <td>11808</td>\n      <td>0.83</td>\n      <td>0.46</td>\n      <td>si</td>\n    </tr>\n    <tr>\n      <th>5</th>\n      <td>Valparaiso</td>\n      <td>VA</td>\n      <td>16396</td>\n      <td>2010849</td>\n      <td>12319</td>\n      <td>0.87</td>\n      <td>0.46</td>\n      <td>si</td>\n    </tr>\n    <tr>\n      <th>6</th>\n      <td>Metropolitana</td>\n      <td>RM</td>\n      <td>15403</td>\n      <td>8420729</td>\n      <td>16836</td>\n      <td>0.88</td>\n      <td>0.51</td>\n      <td>si</td>\n    </tr>\n    <tr>\n      <th>7</th>\n      <td>Libertador General Bernardo OHiggings</td>\n      <td>LI</td>\n      <td>16387</td>\n      <td>1025586</td>\n      <td>13673</td>\n      <td>0.82</td>\n      <td>0.41</td>\n      <td>no</td>\n    </tr>\n    <tr>\n      <th>8</th>\n      <td>Maule</td>\n      <td>ML</td>\n      <td>30296</td>\n      <td>1171982</td>\n      <td>11141</td>\n      <td>0.79</td>\n      <td>0.46</td>\n      <td>si</td>\n    </tr>\n    <tr>\n      <th>9</th>\n      <td>Ñuble</td>\n      <td>NB</td>\n      <td>13178</td>\n      <td>521711</td>\n      <td>8467</td>\n      <td>0.83</td>\n      <td>0.48</td>\n      <td>si</td>\n    </tr>\n    <tr>\n      <th>10</th>\n      <td>Biobio</td>\n      <td>BI</td>\n      <td>23890</td>\n      <td>1681225</td>\n      <td>12296</td>\n      <td>0.83</td>\n      <td>0.48</td>\n      <td>no</td>\n    </tr>\n    <tr>\n      <th>11</th>\n      <td>La Araucania</td>\n      <td>AR</td>\n      <td>31842</td>\n      <td>1028201</td>\n      <td>9276</td>\n      <td>0.79</td>\n      <td>0.50</td>\n      <td>no</td>\n    </tr>\n    <tr>\n      <th>12</th>\n      <td>Los Rios</td>\n      <td>LR</td>\n      <td>18429</td>\n      <td>411205</td>\n      <td>10768</td>\n      <td>0.80</td>\n      <td>0.49</td>\n      <td>si</td>\n    </tr>\n    <tr>\n      <th>13</th>\n      <td>Los Lagos</td>\n      <td>LL</td>\n      <td>48583</td>\n      <td>907429</td>\n      <td>12757</td>\n      <td>0.80</td>\n      <td>0.49</td>\n      <td>no</td>\n    </tr>\n    <tr>\n      <th>14</th>\n      <td>Aysen del General Carlos Ibañez del Campo</td>\n      <td>AI</td>\n      <td>108494</td>\n      <td>108306</td>\n      <td>18708</td>\n      <td>0.81</td>\n      <td>0.49</td>\n      <td>si</td>\n    </tr>\n    <tr>\n      <th>15</th>\n      <td>Magallanes y de la Antartica Chilena</td>\n      <td>MA</td>\n      <td>132297</td>\n      <td>182217</td>\n      <td>17284</td>\n      <td>0.86</td>\n      <td>0.46</td>\n      <td>si</td>\n    </tr>\n  </tbody>\n</table>\n</div>"
     },
     "metadata": {},
     "execution_count": 61
    }
   ],
   "source": [
    "columnas.insert(5,columnas.pop(columnas.index('IDH_Region')))\n",
    "CHILE_DATAFRAME=CHILE_DATAFRAME[columnas]\n",
    "CHILE_DATAFRAME"
   ]
  },
  {
   "source": [
    "1.9 Agregar otra fila llamarla con algun nombre ficticio e incorporarla al dataframe HINT: USE APPEND"
   ],
   "cell_type": "markdown",
   "metadata": {}
  },
  {
   "cell_type": "code",
   "execution_count": 64,
   "metadata": {},
   "outputs": [
    {
     "output_type": "stream",
     "name": "stderr",
     "text": [
      "C:\\Users\\Usuario\\AppData\\Local\\Temp\\ipykernel_9704\\471438216.py:2: FutureWarning: The frame.append method is deprecated and will be removed from pandas in a future version. Use pandas.concat instead.\n  CHILE_DATAFRAME=CHILE_DATAFRAME.append(otra_fila,ignore_index=True)\n"
     ]
    },
    {
     "output_type": "execute_result",
     "data": {
      "text/plain": [
       "                                Nombre_Region Abreviatura_Region  \\\n",
       "0                          Arica y Parinacota                 AP   \n",
       "1                                    Tarapacá                 TA   \n",
       "2                                 Antofagasta                 AN   \n",
       "3                                     Atacama                 AT   \n",
       "4                                    Coquimbo                 CO   \n",
       "5                                  Valparaiso                 VA   \n",
       "6                               Metropolitana                 RM   \n",
       "7       Libertador General Bernardo OHiggings                 LI   \n",
       "8                                       Maule                 ML   \n",
       "9                                       Ñuble                 NB   \n",
       "10                                     Biobio                 BI   \n",
       "11                               La Araucania                 AR   \n",
       "12                                   Los Rios                 LR   \n",
       "13                                  Los Lagos                 LL   \n",
       "14  Aysen del General Carlos Ibañez del Campo                 AI   \n",
       "15       Magallanes y de la Antartica Chilena                 MA   \n",
       "16                                 IMAGINARIO                 IM   \n",
       "\n",
       "    Territorio_Region  Poblacion_Region  PIB_Region  IDH_Region  GINI_Region  \\\n",
       "0               16873            259802       10126        0.88         0.42   \n",
       "1               42225            406287       20379        0.88         0.43   \n",
       "2              126049            714142       37282        0.88         0.44   \n",
       "3               75176            319992       21094        0.85         0.45   \n",
       "4               40579            879267       11808        0.83         0.46   \n",
       "5               16396           2010849       12319        0.87         0.46   \n",
       "6               15403           8420729       16836        0.88         0.51   \n",
       "7               16387           1025586       13673        0.82         0.41   \n",
       "8               30296           1171982       11141        0.79         0.46   \n",
       "9               13178            521711        8467        0.83         0.48   \n",
       "10              23890           1681225       12296        0.83         0.48   \n",
       "11              31842           1028201        9276        0.79         0.50   \n",
       "12              18429            411205       10768        0.80         0.49   \n",
       "13              48583            907429       12757        0.80         0.49   \n",
       "14             108494            108306       18708        0.81         0.49   \n",
       "15             132297            182217       17284        0.86         0.46   \n",
       "16             212563            890231       19321        0.84         0.45   \n",
       "\n",
       "   visitado  \n",
       "0        si  \n",
       "1        no  \n",
       "2        si  \n",
       "3        si  \n",
       "4        si  \n",
       "5        si  \n",
       "6        si  \n",
       "7        no  \n",
       "8        si  \n",
       "9        si  \n",
       "10       no  \n",
       "11       no  \n",
       "12       si  \n",
       "13       no  \n",
       "14       si  \n",
       "15       si  \n",
       "16       no  "
      ],
      "text/html": "<div>\n<style scoped>\n    .dataframe tbody tr th:only-of-type {\n        vertical-align: middle;\n    }\n\n    .dataframe tbody tr th {\n        vertical-align: top;\n    }\n\n    .dataframe thead th {\n        text-align: right;\n    }\n</style>\n<table border=\"1\" class=\"dataframe\">\n  <thead>\n    <tr style=\"text-align: right;\">\n      <th></th>\n      <th>Nombre_Region</th>\n      <th>Abreviatura_Region</th>\n      <th>Territorio_Region</th>\n      <th>Poblacion_Region</th>\n      <th>PIB_Region</th>\n      <th>IDH_Region</th>\n      <th>GINI_Region</th>\n      <th>visitado</th>\n    </tr>\n  </thead>\n  <tbody>\n    <tr>\n      <th>0</th>\n      <td>Arica y Parinacota</td>\n      <td>AP</td>\n      <td>16873</td>\n      <td>259802</td>\n      <td>10126</td>\n      <td>0.88</td>\n      <td>0.42</td>\n      <td>si</td>\n    </tr>\n    <tr>\n      <th>1</th>\n      <td>Tarapacá</td>\n      <td>TA</td>\n      <td>42225</td>\n      <td>406287</td>\n      <td>20379</td>\n      <td>0.88</td>\n      <td>0.43</td>\n      <td>no</td>\n    </tr>\n    <tr>\n      <th>2</th>\n      <td>Antofagasta</td>\n      <td>AN</td>\n      <td>126049</td>\n      <td>714142</td>\n      <td>37282</td>\n      <td>0.88</td>\n      <td>0.44</td>\n      <td>si</td>\n    </tr>\n    <tr>\n      <th>3</th>\n      <td>Atacama</td>\n      <td>AT</td>\n      <td>75176</td>\n      <td>319992</td>\n      <td>21094</td>\n      <td>0.85</td>\n      <td>0.45</td>\n      <td>si</td>\n    </tr>\n    <tr>\n      <th>4</th>\n      <td>Coquimbo</td>\n      <td>CO</td>\n      <td>40579</td>\n      <td>879267</td>\n      <td>11808</td>\n      <td>0.83</td>\n      <td>0.46</td>\n      <td>si</td>\n    </tr>\n    <tr>\n      <th>5</th>\n      <td>Valparaiso</td>\n      <td>VA</td>\n      <td>16396</td>\n      <td>2010849</td>\n      <td>12319</td>\n      <td>0.87</td>\n      <td>0.46</td>\n      <td>si</td>\n    </tr>\n    <tr>\n      <th>6</th>\n      <td>Metropolitana</td>\n      <td>RM</td>\n      <td>15403</td>\n      <td>8420729</td>\n      <td>16836</td>\n      <td>0.88</td>\n      <td>0.51</td>\n      <td>si</td>\n    </tr>\n    <tr>\n      <th>7</th>\n      <td>Libertador General Bernardo OHiggings</td>\n      <td>LI</td>\n      <td>16387</td>\n      <td>1025586</td>\n      <td>13673</td>\n      <td>0.82</td>\n      <td>0.41</td>\n      <td>no</td>\n    </tr>\n    <tr>\n      <th>8</th>\n      <td>Maule</td>\n      <td>ML</td>\n      <td>30296</td>\n      <td>1171982</td>\n      <td>11141</td>\n      <td>0.79</td>\n      <td>0.46</td>\n      <td>si</td>\n    </tr>\n    <tr>\n      <th>9</th>\n      <td>Ñuble</td>\n      <td>NB</td>\n      <td>13178</td>\n      <td>521711</td>\n      <td>8467</td>\n      <td>0.83</td>\n      <td>0.48</td>\n      <td>si</td>\n    </tr>\n    <tr>\n      <th>10</th>\n      <td>Biobio</td>\n      <td>BI</td>\n      <td>23890</td>\n      <td>1681225</td>\n      <td>12296</td>\n      <td>0.83</td>\n      <td>0.48</td>\n      <td>no</td>\n    </tr>\n    <tr>\n      <th>11</th>\n      <td>La Araucania</td>\n      <td>AR</td>\n      <td>31842</td>\n      <td>1028201</td>\n      <td>9276</td>\n      <td>0.79</td>\n      <td>0.50</td>\n      <td>no</td>\n    </tr>\n    <tr>\n      <th>12</th>\n      <td>Los Rios</td>\n      <td>LR</td>\n      <td>18429</td>\n      <td>411205</td>\n      <td>10768</td>\n      <td>0.80</td>\n      <td>0.49</td>\n      <td>si</td>\n    </tr>\n    <tr>\n      <th>13</th>\n      <td>Los Lagos</td>\n      <td>LL</td>\n      <td>48583</td>\n      <td>907429</td>\n      <td>12757</td>\n      <td>0.80</td>\n      <td>0.49</td>\n      <td>no</td>\n    </tr>\n    <tr>\n      <th>14</th>\n      <td>Aysen del General Carlos Ibañez del Campo</td>\n      <td>AI</td>\n      <td>108494</td>\n      <td>108306</td>\n      <td>18708</td>\n      <td>0.81</td>\n      <td>0.49</td>\n      <td>si</td>\n    </tr>\n    <tr>\n      <th>15</th>\n      <td>Magallanes y de la Antartica Chilena</td>\n      <td>MA</td>\n      <td>132297</td>\n      <td>182217</td>\n      <td>17284</td>\n      <td>0.86</td>\n      <td>0.46</td>\n      <td>si</td>\n    </tr>\n    <tr>\n      <th>16</th>\n      <td>IMAGINARIO</td>\n      <td>IM</td>\n      <td>212563</td>\n      <td>890231</td>\n      <td>19321</td>\n      <td>0.84</td>\n      <td>0.45</td>\n      <td>no</td>\n    </tr>\n  </tbody>\n</table>\n</div>"
     },
     "metadata": {},
     "execution_count": 64
    }
   ],
   "source": [
    "otra_fila={'Nombre_Region':'IMAGINARIO','Abreviatura_Region':'IM','Territorio_Region':212563,'Poblacion_Region':890231,'PIB_Region':19321,'IDH_Region':0.84,'GINI_Region':0.45,'visitado':'no'}\n",
    "CHILE_DATAFRAME=CHILE_DATAFRAME.append(otra_fila,ignore_index=True)\n",
    "CHILE_DATAFRAME"
   ]
  },
  {
   "source": [
    "1.10 seleccione de los lugares que visito, solo la columna nombre de region y el pib"
   ],
   "cell_type": "markdown",
   "metadata": {}
  },
  {
   "cell_type": "code",
   "execution_count": 74,
   "metadata": {},
   "outputs": [
    {
     "output_type": "execute_result",
     "data": {
      "text/plain": [
       "                                Nombre_Region  PIB_Region\n",
       "0                          Arica y Parinacota       10126\n",
       "2                                 Antofagasta       37282\n",
       "3                                     Atacama       21094\n",
       "4                                    Coquimbo       11808\n",
       "5                                  Valparaiso       12319\n",
       "6                               Metropolitana       16836\n",
       "8                                       Maule       11141\n",
       "9                                       Ñuble        8467\n",
       "12                                   Los Rios       10768\n",
       "14  Aysen del General Carlos Ibañez del Campo       18708\n",
       "15       Magallanes y de la Antartica Chilena       17284"
      ],
      "text/html": "<div>\n<style scoped>\n    .dataframe tbody tr th:only-of-type {\n        vertical-align: middle;\n    }\n\n    .dataframe tbody tr th {\n        vertical-align: top;\n    }\n\n    .dataframe thead th {\n        text-align: right;\n    }\n</style>\n<table border=\"1\" class=\"dataframe\">\n  <thead>\n    <tr style=\"text-align: right;\">\n      <th></th>\n      <th>Nombre_Region</th>\n      <th>PIB_Region</th>\n    </tr>\n  </thead>\n  <tbody>\n    <tr>\n      <th>0</th>\n      <td>Arica y Parinacota</td>\n      <td>10126</td>\n    </tr>\n    <tr>\n      <th>2</th>\n      <td>Antofagasta</td>\n      <td>37282</td>\n    </tr>\n    <tr>\n      <th>3</th>\n      <td>Atacama</td>\n      <td>21094</td>\n    </tr>\n    <tr>\n      <th>4</th>\n      <td>Coquimbo</td>\n      <td>11808</td>\n    </tr>\n    <tr>\n      <th>5</th>\n      <td>Valparaiso</td>\n      <td>12319</td>\n    </tr>\n    <tr>\n      <th>6</th>\n      <td>Metropolitana</td>\n      <td>16836</td>\n    </tr>\n    <tr>\n      <th>8</th>\n      <td>Maule</td>\n      <td>11141</td>\n    </tr>\n    <tr>\n      <th>9</th>\n      <td>Ñuble</td>\n      <td>8467</td>\n    </tr>\n    <tr>\n      <th>12</th>\n      <td>Los Rios</td>\n      <td>10768</td>\n    </tr>\n    <tr>\n      <th>14</th>\n      <td>Aysen del General Carlos Ibañez del Campo</td>\n      <td>18708</td>\n    </tr>\n    <tr>\n      <th>15</th>\n      <td>Magallanes y de la Antartica Chilena</td>\n      <td>17284</td>\n    </tr>\n  </tbody>\n</table>\n</div>"
     },
     "metadata": {},
     "execution_count": 74
    }
   ],
   "source": [
    "CHILE_DATAFRAME[CHILE_DATAFRAME['visitado']=='si'][['Nombre_Region','PIB_Region']]\n"
   ]
  },
  {
   "source": [
    "BONUS: USE NP.WHERE() SI EL IDH ES >0.8 ES ALTO, SI ES >0.7 MEDIO Y EN OTRO CASO BAJO"
   ],
   "cell_type": "markdown",
   "metadata": {}
  },
  {
   "cell_type": "code",
   "execution_count": 311,
   "metadata": {},
   "outputs": [],
   "source": [
    "CHILE_DATAFRAME['OPINION DE IDH']=np.where(CHILE_DATAFRAME['IDH_Region']>=0.8,'ALTO',np.where(CHILE_DATAFRAME['IDH_Region']>=0.7,'MEDIO','BAJO'))"
   ]
  },
  {
   "cell_type": "code",
   "execution_count": 312,
   "metadata": {},
   "outputs": [
    {
     "output_type": "execute_result",
     "data": {
      "text/plain": [
       "                                Nombre_Region Abreviatura_Region  \\\n",
       "0                          Arica y Parinacota                 AP   \n",
       "1                                    Tarapacá                 TA   \n",
       "2                                 Antofagasta                 AN   \n",
       "3                                     Atacama                 AT   \n",
       "4                                    Coquimbo                 CO   \n",
       "5                                  Valparaiso                 VA   \n",
       "6                               Metropolitana                 RM   \n",
       "7       Libertador General Bernardo OHiggings                 LI   \n",
       "8                                       Maule                 ML   \n",
       "9                                       Ñuble                 NB   \n",
       "10                                     Biobio                 BI   \n",
       "11                               La Araucania                 AR   \n",
       "12                                   Los Rios                 LR   \n",
       "13                                  Los Lagos                 LL   \n",
       "14  Aysen del General Carlos Ibañez del Campo                 AI   \n",
       "15       Magallanes y de la Antartica Chilena                 MA   \n",
       "16                                 IMAGINARIO                 IM   \n",
       "\n",
       "    Territorio_Region  Poblacion_Region  PIB_Region  IDH_Region  GINI_Region  \\\n",
       "0               16873            259802       10126        0.88         0.42   \n",
       "1               42225            406287       20379        0.88         0.43   \n",
       "2              126049            714142       37282        0.88         0.44   \n",
       "3               75176            319992       21094        0.85         0.45   \n",
       "4               40579            879267       11808        0.83         0.46   \n",
       "5               16396           2010849       12319        0.87         0.46   \n",
       "6               15403           8420729       16836        0.88         0.51   \n",
       "7               16387           1025586       13673        0.82         0.41   \n",
       "8               30296           1171982       11141        0.79         0.46   \n",
       "9               13178            521711        8467        0.83         0.48   \n",
       "10              23890           1681225       12296        0.83         0.48   \n",
       "11              31842           1028201        9276        0.79         0.50   \n",
       "12              18429            411205       10768        0.80         0.49   \n",
       "13              48583            907429       12757        0.80         0.49   \n",
       "14             108494            108306       18708        0.81         0.49   \n",
       "15             132297            182217       17284        0.86         0.46   \n",
       "16             212563            890231       19321        0.84         0.45   \n",
       "\n",
       "   visitado OPINION DE IDH  \n",
       "0        si           ALTO  \n",
       "1        no           ALTO  \n",
       "2        si           ALTO  \n",
       "3        si           ALTO  \n",
       "4        si           ALTO  \n",
       "5        si           ALTO  \n",
       "6        si           ALTO  \n",
       "7        no           ALTO  \n",
       "8        si          MEDIO  \n",
       "9        si           ALTO  \n",
       "10       no           ALTO  \n",
       "11       no          MEDIO  \n",
       "12       si          MEDIO  \n",
       "13       no          MEDIO  \n",
       "14       si           ALTO  \n",
       "15       si           ALTO  \n",
       "16       no           ALTO  "
      ],
      "text/html": "<div>\n<style scoped>\n    .dataframe tbody tr th:only-of-type {\n        vertical-align: middle;\n    }\n\n    .dataframe tbody tr th {\n        vertical-align: top;\n    }\n\n    .dataframe thead th {\n        text-align: right;\n    }\n</style>\n<table border=\"1\" class=\"dataframe\">\n  <thead>\n    <tr style=\"text-align: right;\">\n      <th></th>\n      <th>Nombre_Region</th>\n      <th>Abreviatura_Region</th>\n      <th>Territorio_Region</th>\n      <th>Poblacion_Region</th>\n      <th>PIB_Region</th>\n      <th>IDH_Region</th>\n      <th>GINI_Region</th>\n      <th>visitado</th>\n      <th>OPINION DE IDH</th>\n    </tr>\n  </thead>\n  <tbody>\n    <tr>\n      <th>0</th>\n      <td>Arica y Parinacota</td>\n      <td>AP</td>\n      <td>16873</td>\n      <td>259802</td>\n      <td>10126</td>\n      <td>0.88</td>\n      <td>0.42</td>\n      <td>si</td>\n      <td>ALTO</td>\n    </tr>\n    <tr>\n      <th>1</th>\n      <td>Tarapacá</td>\n      <td>TA</td>\n      <td>42225</td>\n      <td>406287</td>\n      <td>20379</td>\n      <td>0.88</td>\n      <td>0.43</td>\n      <td>no</td>\n      <td>ALTO</td>\n    </tr>\n    <tr>\n      <th>2</th>\n      <td>Antofagasta</td>\n      <td>AN</td>\n      <td>126049</td>\n      <td>714142</td>\n      <td>37282</td>\n      <td>0.88</td>\n      <td>0.44</td>\n      <td>si</td>\n      <td>ALTO</td>\n    </tr>\n    <tr>\n      <th>3</th>\n      <td>Atacama</td>\n      <td>AT</td>\n      <td>75176</td>\n      <td>319992</td>\n      <td>21094</td>\n      <td>0.85</td>\n      <td>0.45</td>\n      <td>si</td>\n      <td>ALTO</td>\n    </tr>\n    <tr>\n      <th>4</th>\n      <td>Coquimbo</td>\n      <td>CO</td>\n      <td>40579</td>\n      <td>879267</td>\n      <td>11808</td>\n      <td>0.83</td>\n      <td>0.46</td>\n      <td>si</td>\n      <td>ALTO</td>\n    </tr>\n    <tr>\n      <th>5</th>\n      <td>Valparaiso</td>\n      <td>VA</td>\n      <td>16396</td>\n      <td>2010849</td>\n      <td>12319</td>\n      <td>0.87</td>\n      <td>0.46</td>\n      <td>si</td>\n      <td>ALTO</td>\n    </tr>\n    <tr>\n      <th>6</th>\n      <td>Metropolitana</td>\n      <td>RM</td>\n      <td>15403</td>\n      <td>8420729</td>\n      <td>16836</td>\n      <td>0.88</td>\n      <td>0.51</td>\n      <td>si</td>\n      <td>ALTO</td>\n    </tr>\n    <tr>\n      <th>7</th>\n      <td>Libertador General Bernardo OHiggings</td>\n      <td>LI</td>\n      <td>16387</td>\n      <td>1025586</td>\n      <td>13673</td>\n      <td>0.82</td>\n      <td>0.41</td>\n      <td>no</td>\n      <td>ALTO</td>\n    </tr>\n    <tr>\n      <th>8</th>\n      <td>Maule</td>\n      <td>ML</td>\n      <td>30296</td>\n      <td>1171982</td>\n      <td>11141</td>\n      <td>0.79</td>\n      <td>0.46</td>\n      <td>si</td>\n      <td>MEDIO</td>\n    </tr>\n    <tr>\n      <th>9</th>\n      <td>Ñuble</td>\n      <td>NB</td>\n      <td>13178</td>\n      <td>521711</td>\n      <td>8467</td>\n      <td>0.83</td>\n      <td>0.48</td>\n      <td>si</td>\n      <td>ALTO</td>\n    </tr>\n    <tr>\n      <th>10</th>\n      <td>Biobio</td>\n      <td>BI</td>\n      <td>23890</td>\n      <td>1681225</td>\n      <td>12296</td>\n      <td>0.83</td>\n      <td>0.48</td>\n      <td>no</td>\n      <td>ALTO</td>\n    </tr>\n    <tr>\n      <th>11</th>\n      <td>La Araucania</td>\n      <td>AR</td>\n      <td>31842</td>\n      <td>1028201</td>\n      <td>9276</td>\n      <td>0.79</td>\n      <td>0.50</td>\n      <td>no</td>\n      <td>MEDIO</td>\n    </tr>\n    <tr>\n      <th>12</th>\n      <td>Los Rios</td>\n      <td>LR</td>\n      <td>18429</td>\n      <td>411205</td>\n      <td>10768</td>\n      <td>0.80</td>\n      <td>0.49</td>\n      <td>si</td>\n      <td>MEDIO</td>\n    </tr>\n    <tr>\n      <th>13</th>\n      <td>Los Lagos</td>\n      <td>LL</td>\n      <td>48583</td>\n      <td>907429</td>\n      <td>12757</td>\n      <td>0.80</td>\n      <td>0.49</td>\n      <td>no</td>\n      <td>MEDIO</td>\n    </tr>\n    <tr>\n      <th>14</th>\n      <td>Aysen del General Carlos Ibañez del Campo</td>\n      <td>AI</td>\n      <td>108494</td>\n      <td>108306</td>\n      <td>18708</td>\n      <td>0.81</td>\n      <td>0.49</td>\n      <td>si</td>\n      <td>ALTO</td>\n    </tr>\n    <tr>\n      <th>15</th>\n      <td>Magallanes y de la Antartica Chilena</td>\n      <td>MA</td>\n      <td>132297</td>\n      <td>182217</td>\n      <td>17284</td>\n      <td>0.86</td>\n      <td>0.46</td>\n      <td>si</td>\n      <td>ALTO</td>\n    </tr>\n    <tr>\n      <th>16</th>\n      <td>IMAGINARIO</td>\n      <td>IM</td>\n      <td>212563</td>\n      <td>890231</td>\n      <td>19321</td>\n      <td>0.84</td>\n      <td>0.45</td>\n      <td>no</td>\n      <td>ALTO</td>\n    </tr>\n  </tbody>\n</table>\n</div>"
     },
     "metadata": {},
     "execution_count": 312
    }
   ],
   "source": [
    "CHILE_DATAFRAME"
   ]
  },
  {
   "source": [
    "# Parte 2"
   ],
   "cell_type": "markdown",
   "metadata": {}
  },
  {
   "source": [
    "2.1 Genera un DataFrame de 15 filas que incluya nombre, apellido (deben haber 3 pares de apellidos iguales), genero (8 masculinos y 7 femeninos) y ponga 3 columnas aleatorias con notas de castellano, matematicas y ciencia"
   ],
   "cell_type": "markdown",
   "metadata": {}
  },
  {
   "cell_type": "code",
   "execution_count": 2,
   "metadata": {},
   "outputs": [
    {
     "output_type": "execute_result",
     "data": {
      "text/plain": [
       "      NOMBRES   APELLIDOS GENERO  MATEMATICAS  CASTELLANO    CIENCIAS\n",
       "0        Juan      Osorio      M    78.643510   53.566372   88.932368\n",
       "1       Diego      Bertin      M    66.567670   69.117242   32.335438\n",
       "2     Esteban     Serrano      M    81.045813   45.720787   38.821745\n",
       "3   Constanza    Ljubetic      F    71.632909   61.653409   59.411940\n",
       "4      Sergio      Osorio      M    57.293606   39.098705   57.763306\n",
       "5       María      Osorio      F    64.648918   39.146643   47.044507\n",
       "6       Kathy     Herrada      F    75.626916   36.200411   67.345731\n",
       "7     Ricardo      Bertin      M    71.610281   48.839143   91.096968\n",
       "8      Damian      Caroca      M    93.193119   65.163343   65.898887\n",
       "9     Roberto  Altamirano      M    67.721783   78.427015  100.000000\n",
       "10     Andrea    Gonzalez      F    80.088168   66.102490   48.553811\n",
       "11  Cristobal    Gonzalez      M    65.691782   48.144226   60.133737\n",
       "12   Virginia   Ripamonti      F    61.385148   66.699907   52.721250\n",
       "13     Amanda      Olmedo      F    78.199756   58.053899   27.883977\n",
       "14  Alejandra    Mardones      F    75.585886   53.267948   72.818412"
      ],
      "text/html": "<div>\n<style scoped>\n    .dataframe tbody tr th:only-of-type {\n        vertical-align: middle;\n    }\n\n    .dataframe tbody tr th {\n        vertical-align: top;\n    }\n\n    .dataframe thead th {\n        text-align: right;\n    }\n</style>\n<table border=\"1\" class=\"dataframe\">\n  <thead>\n    <tr style=\"text-align: right;\">\n      <th></th>\n      <th>NOMBRES</th>\n      <th>APELLIDOS</th>\n      <th>GENERO</th>\n      <th>MATEMATICAS</th>\n      <th>CASTELLANO</th>\n      <th>CIENCIAS</th>\n    </tr>\n  </thead>\n  <tbody>\n    <tr>\n      <th>0</th>\n      <td>Juan</td>\n      <td>Osorio</td>\n      <td>M</td>\n      <td>78.643510</td>\n      <td>53.566372</td>\n      <td>88.932368</td>\n    </tr>\n    <tr>\n      <th>1</th>\n      <td>Diego</td>\n      <td>Bertin</td>\n      <td>M</td>\n      <td>66.567670</td>\n      <td>69.117242</td>\n      <td>32.335438</td>\n    </tr>\n    <tr>\n      <th>2</th>\n      <td>Esteban</td>\n      <td>Serrano</td>\n      <td>M</td>\n      <td>81.045813</td>\n      <td>45.720787</td>\n      <td>38.821745</td>\n    </tr>\n    <tr>\n      <th>3</th>\n      <td>Constanza</td>\n      <td>Ljubetic</td>\n      <td>F</td>\n      <td>71.632909</td>\n      <td>61.653409</td>\n      <td>59.411940</td>\n    </tr>\n    <tr>\n      <th>4</th>\n      <td>Sergio</td>\n      <td>Osorio</td>\n      <td>M</td>\n      <td>57.293606</td>\n      <td>39.098705</td>\n      <td>57.763306</td>\n    </tr>\n    <tr>\n      <th>5</th>\n      <td>María</td>\n      <td>Osorio</td>\n      <td>F</td>\n      <td>64.648918</td>\n      <td>39.146643</td>\n      <td>47.044507</td>\n    </tr>\n    <tr>\n      <th>6</th>\n      <td>Kathy</td>\n      <td>Herrada</td>\n      <td>F</td>\n      <td>75.626916</td>\n      <td>36.200411</td>\n      <td>67.345731</td>\n    </tr>\n    <tr>\n      <th>7</th>\n      <td>Ricardo</td>\n      <td>Bertin</td>\n      <td>M</td>\n      <td>71.610281</td>\n      <td>48.839143</td>\n      <td>91.096968</td>\n    </tr>\n    <tr>\n      <th>8</th>\n      <td>Damian</td>\n      <td>Caroca</td>\n      <td>M</td>\n      <td>93.193119</td>\n      <td>65.163343</td>\n      <td>65.898887</td>\n    </tr>\n    <tr>\n      <th>9</th>\n      <td>Roberto</td>\n      <td>Altamirano</td>\n      <td>M</td>\n      <td>67.721783</td>\n      <td>78.427015</td>\n      <td>100.000000</td>\n    </tr>\n    <tr>\n      <th>10</th>\n      <td>Andrea</td>\n      <td>Gonzalez</td>\n      <td>F</td>\n      <td>80.088168</td>\n      <td>66.102490</td>\n      <td>48.553811</td>\n    </tr>\n    <tr>\n      <th>11</th>\n      <td>Cristobal</td>\n      <td>Gonzalez</td>\n      <td>M</td>\n      <td>65.691782</td>\n      <td>48.144226</td>\n      <td>60.133737</td>\n    </tr>\n    <tr>\n      <th>12</th>\n      <td>Virginia</td>\n      <td>Ripamonti</td>\n      <td>F</td>\n      <td>61.385148</td>\n      <td>66.699907</td>\n      <td>52.721250</td>\n    </tr>\n    <tr>\n      <th>13</th>\n      <td>Amanda</td>\n      <td>Olmedo</td>\n      <td>F</td>\n      <td>78.199756</td>\n      <td>58.053899</td>\n      <td>27.883977</td>\n    </tr>\n    <tr>\n      <th>14</th>\n      <td>Alejandra</td>\n      <td>Mardones</td>\n      <td>F</td>\n      <td>75.585886</td>\n      <td>53.267948</td>\n      <td>72.818412</td>\n    </tr>\n  </tbody>\n</table>\n</div>"
     },
     "metadata": {},
     "execution_count": 2
    }
   ],
   "source": [
    "import pandas as pd\n",
    "import numpy as np  \n",
    "import random as rd \n",
    "NOMBRES=['Juan','Diego','Esteban','Constanza','Sergio','María','Kathy','Ricardo','Damian','Roberto','Andrea','Cristobal','Virginia','Amanda','Alejandra']\n",
    "APELLIDOS=['Osorio','Bertin','Serrano','Ljubetic','Osorio','Osorio','Herrada','Bertin','Caroca','Altamirano','Gonzalez','Gonzalez','Ripamonti','Olmedo','Mardones']\n",
    "GENERO=['M','M','M','F','M','F','F','M','M','M','F','M','F','F','F']\n",
    "RUBRICA={'NOMBRES':NOMBRES,'APELLIDOS':APELLIDOS,'GENERO':GENERO}\n",
    "RUBRICA_DF=pd.DataFrame(RUBRICA)\n",
    "#RUBRICA_DF['MATEMATICAS']=[100*rd.random() for _ in range(len(RUBRICA_DF))]\n",
    "#RUBRICA_DF['CASTELLANO']=[100*rd.random() for _ in range(len(RUBRICA_DF))]\n",
    "#RUBRICA_DF['CIENCIAS']=[100*rd.random() for _ in range(len(RUBRICA_DF))]\n",
    "RUBRICA_DF['MATEMATICAS']=[np.clip(np.random.normal(loc=70,scale=10),0,100)  for _ in range(len(RUBRICA_DF))] #valores aleatorios en una normal con maximos y minimos definidos\n",
    "RUBRICA_DF['CASTELLANO']=[np.clip(np.random.normal(loc=50,scale=15),0,100)  for _ in range(len(RUBRICA_DF))]\n",
    "RUBRICA_DF['CIENCIAS']=[np.clip(np.random.normal(loc=60,scale=20),0,100) for _ in range(len(RUBRICA_DF))]\n",
    "RUBRICA_DF"
   ]
  },
  {
   "source": [
    "2.2 Fije una regla de aprobación, donde matematicas pondere 50%, castellano 30% y ciencia 20%. Hint(np_select() )"
   ],
   "cell_type": "markdown",
   "metadata": {}
  },
  {
   "cell_type": "code",
   "execution_count": 3,
   "metadata": {},
   "outputs": [
    {
     "output_type": "execute_result",
     "data": {
      "text/plain": [
       "      NOMBRES   APELLIDOS GENERO  MATEMATICAS  CASTELLANO    CIENCIAS  \\\n",
       "0        Juan      Osorio      M    78.643510   53.566372   88.932368   \n",
       "1       Diego      Bertin      M    66.567670   69.117242   32.335438   \n",
       "2     Esteban     Serrano      M    81.045813   45.720787   38.821745   \n",
       "3   Constanza    Ljubetic      F    71.632909   61.653409   59.411940   \n",
       "4      Sergio      Osorio      M    57.293606   39.098705   57.763306   \n",
       "5       María      Osorio      F    64.648918   39.146643   47.044507   \n",
       "6       Kathy     Herrada      F    75.626916   36.200411   67.345731   \n",
       "7     Ricardo      Bertin      M    71.610281   48.839143   91.096968   \n",
       "8      Damian      Caroca      M    93.193119   65.163343   65.898887   \n",
       "9     Roberto  Altamirano      M    67.721783   78.427015  100.000000   \n",
       "10     Andrea    Gonzalez      F    80.088168   66.102490   48.553811   \n",
       "11  Cristobal    Gonzalez      M    65.691782   48.144226   60.133737   \n",
       "12   Virginia   Ripamonti      F    61.385148   66.699907   52.721250   \n",
       "13     Amanda      Olmedo      F    78.199756   58.053899   27.883977   \n",
       "14  Alejandra    Mardones      F    75.585886   53.267948   72.818412   \n",
       "\n",
       "     PROMEDIO  RESULTADO  \n",
       "0   73.178140   APROBADO  \n",
       "1   60.486095   APROBADO  \n",
       "2   62.003492   APROBADO  \n",
       "3   66.194865   APROBADO  \n",
       "4   51.929076  REPECHAJE  \n",
       "5   53.477353  REPECHAJE  \n",
       "6   62.142727   APROBADO  \n",
       "7   68.676277   APROBADO  \n",
       "8   79.325340   APROBADO  \n",
       "9   77.388996   APROBADO  \n",
       "10  69.585593   APROBADO  \n",
       "11  59.315906  REPECHAJE  \n",
       "12  61.246796   APROBADO  \n",
       "13  62.092843   APROBADO  \n",
       "14  68.337010   APROBADO  "
      ],
      "text/html": "<div>\n<style scoped>\n    .dataframe tbody tr th:only-of-type {\n        vertical-align: middle;\n    }\n\n    .dataframe tbody tr th {\n        vertical-align: top;\n    }\n\n    .dataframe thead th {\n        text-align: right;\n    }\n</style>\n<table border=\"1\" class=\"dataframe\">\n  <thead>\n    <tr style=\"text-align: right;\">\n      <th></th>\n      <th>NOMBRES</th>\n      <th>APELLIDOS</th>\n      <th>GENERO</th>\n      <th>MATEMATICAS</th>\n      <th>CASTELLANO</th>\n      <th>CIENCIAS</th>\n      <th>PROMEDIO</th>\n      <th>RESULTADO</th>\n    </tr>\n  </thead>\n  <tbody>\n    <tr>\n      <th>0</th>\n      <td>Juan</td>\n      <td>Osorio</td>\n      <td>M</td>\n      <td>78.643510</td>\n      <td>53.566372</td>\n      <td>88.932368</td>\n      <td>73.178140</td>\n      <td>APROBADO</td>\n    </tr>\n    <tr>\n      <th>1</th>\n      <td>Diego</td>\n      <td>Bertin</td>\n      <td>M</td>\n      <td>66.567670</td>\n      <td>69.117242</td>\n      <td>32.335438</td>\n      <td>60.486095</td>\n      <td>APROBADO</td>\n    </tr>\n    <tr>\n      <th>2</th>\n      <td>Esteban</td>\n      <td>Serrano</td>\n      <td>M</td>\n      <td>81.045813</td>\n      <td>45.720787</td>\n      <td>38.821745</td>\n      <td>62.003492</td>\n      <td>APROBADO</td>\n    </tr>\n    <tr>\n      <th>3</th>\n      <td>Constanza</td>\n      <td>Ljubetic</td>\n      <td>F</td>\n      <td>71.632909</td>\n      <td>61.653409</td>\n      <td>59.411940</td>\n      <td>66.194865</td>\n      <td>APROBADO</td>\n    </tr>\n    <tr>\n      <th>4</th>\n      <td>Sergio</td>\n      <td>Osorio</td>\n      <td>M</td>\n      <td>57.293606</td>\n      <td>39.098705</td>\n      <td>57.763306</td>\n      <td>51.929076</td>\n      <td>REPECHAJE</td>\n    </tr>\n    <tr>\n      <th>5</th>\n      <td>María</td>\n      <td>Osorio</td>\n      <td>F</td>\n      <td>64.648918</td>\n      <td>39.146643</td>\n      <td>47.044507</td>\n      <td>53.477353</td>\n      <td>REPECHAJE</td>\n    </tr>\n    <tr>\n      <th>6</th>\n      <td>Kathy</td>\n      <td>Herrada</td>\n      <td>F</td>\n      <td>75.626916</td>\n      <td>36.200411</td>\n      <td>67.345731</td>\n      <td>62.142727</td>\n      <td>APROBADO</td>\n    </tr>\n    <tr>\n      <th>7</th>\n      <td>Ricardo</td>\n      <td>Bertin</td>\n      <td>M</td>\n      <td>71.610281</td>\n      <td>48.839143</td>\n      <td>91.096968</td>\n      <td>68.676277</td>\n      <td>APROBADO</td>\n    </tr>\n    <tr>\n      <th>8</th>\n      <td>Damian</td>\n      <td>Caroca</td>\n      <td>M</td>\n      <td>93.193119</td>\n      <td>65.163343</td>\n      <td>65.898887</td>\n      <td>79.325340</td>\n      <td>APROBADO</td>\n    </tr>\n    <tr>\n      <th>9</th>\n      <td>Roberto</td>\n      <td>Altamirano</td>\n      <td>M</td>\n      <td>67.721783</td>\n      <td>78.427015</td>\n      <td>100.000000</td>\n      <td>77.388996</td>\n      <td>APROBADO</td>\n    </tr>\n    <tr>\n      <th>10</th>\n      <td>Andrea</td>\n      <td>Gonzalez</td>\n      <td>F</td>\n      <td>80.088168</td>\n      <td>66.102490</td>\n      <td>48.553811</td>\n      <td>69.585593</td>\n      <td>APROBADO</td>\n    </tr>\n    <tr>\n      <th>11</th>\n      <td>Cristobal</td>\n      <td>Gonzalez</td>\n      <td>M</td>\n      <td>65.691782</td>\n      <td>48.144226</td>\n      <td>60.133737</td>\n      <td>59.315906</td>\n      <td>REPECHAJE</td>\n    </tr>\n    <tr>\n      <th>12</th>\n      <td>Virginia</td>\n      <td>Ripamonti</td>\n      <td>F</td>\n      <td>61.385148</td>\n      <td>66.699907</td>\n      <td>52.721250</td>\n      <td>61.246796</td>\n      <td>APROBADO</td>\n    </tr>\n    <tr>\n      <th>13</th>\n      <td>Amanda</td>\n      <td>Olmedo</td>\n      <td>F</td>\n      <td>78.199756</td>\n      <td>58.053899</td>\n      <td>27.883977</td>\n      <td>62.092843</td>\n      <td>APROBADO</td>\n    </tr>\n    <tr>\n      <th>14</th>\n      <td>Alejandra</td>\n      <td>Mardones</td>\n      <td>F</td>\n      <td>75.585886</td>\n      <td>53.267948</td>\n      <td>72.818412</td>\n      <td>68.337010</td>\n      <td>APROBADO</td>\n    </tr>\n  </tbody>\n</table>\n</div>"
     },
     "metadata": {},
     "execution_count": 3
    }
   ],
   "source": [
    "RUBRICA_DF['PROMEDIO']=0.5*RUBRICA_DF['MATEMATICAS']+0.3*RUBRICA_DF['CASTELLANO']+0.2*RUBRICA_DF['CIENCIAS']\n",
    "condiciones=[(RUBRICA_DF['PROMEDIO']<=50),(RUBRICA_DF['PROMEDIO']<=60),(RUBRICA_DF['PROMEDIO']<=100)]\n",
    "resultado=['REPROBADO','REPECHAJE','APROBADO']\n",
    "RUBRICA_DF['RESULTADO']=np.select(condiciones,resultado, default='SIN CATEGORIA')\n",
    "RUBRICA_DF"
   ]
  },
  {
   "cell_type": "code",
   "execution_count": 9,
   "metadata": {},
   "outputs": [],
   "source": [
    "SOLO_APROBADOS=RUBRICA_DF[RUBRICA_DF['RESULTADO']=='APROBADO']"
   ]
  },
  {
   "cell_type": "code",
   "execution_count": 10,
   "metadata": {},
   "outputs": [
    {
     "output_type": "execute_result",
     "data": {
      "text/plain": [
       "GENERO\n",
       "F    0.857143\n",
       "M    0.750000\n",
       "dtype: float64"
      ]
     },
     "metadata": {},
     "execution_count": 10
    }
   ],
   "source": [
    "SOLO_APROBADOS=RUBRICA_DF[RUBRICA_DF['RESULTADO']=='APROBADO'].value_counts(RUBRICA_DF['GENERO'])/RUBRICA_DF.value_counts(RUBRICA_DF['GENERO'])\n",
    "SOLO_APROBADOS"
   ]
  },
  {
   "cell_type": "code",
   "execution_count": 11,
   "metadata": {},
   "outputs": [
    {
     "output_type": "execute_result",
     "data": {
      "text/plain": [
       "GENERO\n",
       "F    6\n",
       "M    6\n",
       "dtype: int64"
      ]
     },
     "metadata": {},
     "execution_count": 11
    }
   ],
   "source": [
    "RUBRICA_DF[RUBRICA_DF['RESULTADO']=='APROBADO'].value_counts(RUBRICA_DF['GENERO'])"
   ]
  },
  {
   "cell_type": "code",
   "execution_count": 12,
   "metadata": {},
   "outputs": [
    {
     "output_type": "execute_result",
     "data": {
      "text/plain": [
       "GENERO\n",
       "M    8\n",
       "F    7\n",
       "dtype: int64"
      ]
     },
     "metadata": {},
     "execution_count": 12
    }
   ],
   "source": [
    "RUBRICA_DF.value_counts(RUBRICA_DF['GENERO'])\n"
   ]
  },
  {
   "source": [
    "2.5 Filtre con tres condiciones, los aprobados y que tengan =>70 en Ciencias y menos de <= en matematicas"
   ],
   "cell_type": "markdown",
   "metadata": {}
  },
  {
   "cell_type": "code",
   "execution_count": 16,
   "metadata": {},
   "outputs": [
    {
     "output_type": "execute_result",
     "data": {
      "text/plain": [
       "   NOMBRES   APELLIDOS GENERO  MATEMATICAS  CASTELLANO  CIENCIAS   PROMEDIO  \\\n",
       "9  Roberto  Altamirano      M    67.721783   78.427015     100.0  77.388996   \n",
       "\n",
       "  RESULTADO  \n",
       "9  APROBADO  "
      ],
      "text/html": "<div>\n<style scoped>\n    .dataframe tbody tr th:only-of-type {\n        vertical-align: middle;\n    }\n\n    .dataframe tbody tr th {\n        vertical-align: top;\n    }\n\n    .dataframe thead th {\n        text-align: right;\n    }\n</style>\n<table border=\"1\" class=\"dataframe\">\n  <thead>\n    <tr style=\"text-align: right;\">\n      <th></th>\n      <th>NOMBRES</th>\n      <th>APELLIDOS</th>\n      <th>GENERO</th>\n      <th>MATEMATICAS</th>\n      <th>CASTELLANO</th>\n      <th>CIENCIAS</th>\n      <th>PROMEDIO</th>\n      <th>RESULTADO</th>\n    </tr>\n  </thead>\n  <tbody>\n    <tr>\n      <th>9</th>\n      <td>Roberto</td>\n      <td>Altamirano</td>\n      <td>M</td>\n      <td>67.721783</td>\n      <td>78.427015</td>\n      <td>100.0</td>\n      <td>77.388996</td>\n      <td>APROBADO</td>\n    </tr>\n  </tbody>\n</table>\n</div>"
     },
     "metadata": {},
     "execution_count": 16
    }
   ],
   "source": [
    "SOLO_APROBADOS2=RUBRICA_DF[(RUBRICA_DF['RESULTADO']=='APROBADO') & (RUBRICA_DF['CIENCIAS']>=70)& (RUBRICA_DF['MATEMATICAS']<=70)]\n",
    "SOLO_APROBADOS2"
   ]
  },
  {
   "source": [
    "2.5 Usando el metodo duplicated(), encuentre a los hermanos (mismo apellido), guardelo en un dataframe y muestrelo"
   ],
   "cell_type": "markdown",
   "metadata": {}
  },
  {
   "cell_type": "code",
   "execution_count": 217,
   "metadata": {},
   "outputs": [],
   "source": [
    "RUBRICA_no_hermanos=pd.DataFrame(RUBRICA_DF['APELLIDOS'].drop_duplicates(keep=False)) #me deja los no duplicados en una lista, que despues contrasto\n",
    "RUBRICA_DF['NO HERMANOS']=RUBRICA_DF['APELLIDOS'].isin(RUBRICA_no_hermanos['APELLIDOS']) #BUSCO esos no duplicados en mi DF y atribuye T o F\n"
   ]
  },
  {
   "cell_type": "code",
   "execution_count": 219,
   "metadata": {},
   "outputs": [
    {
     "output_type": "execute_result",
     "data": {
      "text/plain": [
       "      NOMBRES APELLIDOS GENERO  MATEMATICAS  CASTELLANO  CIENCIAS  PROMEDIO  \\\n",
       "1       Diego    Bertin      M        83.87       57.63    100.00     79.22   \n",
       "7     Ricardo    Bertin      M        79.40       43.72     53.02     63.42   \n",
       "10     Andrea  Gonzalez      F        63.89       56.61     64.23     61.78   \n",
       "11  Cristobal  Gonzalez      M        82.06       22.68     38.16     55.46   \n",
       "0        Juan    Osorio      M        65.02       54.81     39.02     56.76   \n",
       "4      Sergio    Osorio      M        59.71       31.53     84.20     56.15   \n",
       "5       María    Osorio      F        63.93       44.69     80.72     61.52   \n",
       "\n",
       "    RESULTADO  NO HERMANOS  \n",
       "1    APROBADO        False  \n",
       "7    APROBADO        False  \n",
       "10   APROBADO        False  \n",
       "11  REPECHAJE        False  \n",
       "0   REPECHAJE        False  \n",
       "4   REPECHAJE        False  \n",
       "5    APROBADO        False  "
      ],
      "text/html": "<div>\n<style scoped>\n    .dataframe tbody tr th:only-of-type {\n        vertical-align: middle;\n    }\n\n    .dataframe tbody tr th {\n        vertical-align: top;\n    }\n\n    .dataframe thead th {\n        text-align: right;\n    }\n</style>\n<table border=\"1\" class=\"dataframe\">\n  <thead>\n    <tr style=\"text-align: right;\">\n      <th></th>\n      <th>NOMBRES</th>\n      <th>APELLIDOS</th>\n      <th>GENERO</th>\n      <th>MATEMATICAS</th>\n      <th>CASTELLANO</th>\n      <th>CIENCIAS</th>\n      <th>PROMEDIO</th>\n      <th>RESULTADO</th>\n      <th>NO HERMANOS</th>\n    </tr>\n  </thead>\n  <tbody>\n    <tr>\n      <th>1</th>\n      <td>Diego</td>\n      <td>Bertin</td>\n      <td>M</td>\n      <td>83.87</td>\n      <td>57.63</td>\n      <td>100.00</td>\n      <td>79.22</td>\n      <td>APROBADO</td>\n      <td>False</td>\n    </tr>\n    <tr>\n      <th>7</th>\n      <td>Ricardo</td>\n      <td>Bertin</td>\n      <td>M</td>\n      <td>79.40</td>\n      <td>43.72</td>\n      <td>53.02</td>\n      <td>63.42</td>\n      <td>APROBADO</td>\n      <td>False</td>\n    </tr>\n    <tr>\n      <th>10</th>\n      <td>Andrea</td>\n      <td>Gonzalez</td>\n      <td>F</td>\n      <td>63.89</td>\n      <td>56.61</td>\n      <td>64.23</td>\n      <td>61.78</td>\n      <td>APROBADO</td>\n      <td>False</td>\n    </tr>\n    <tr>\n      <th>11</th>\n      <td>Cristobal</td>\n      <td>Gonzalez</td>\n      <td>M</td>\n      <td>82.06</td>\n      <td>22.68</td>\n      <td>38.16</td>\n      <td>55.46</td>\n      <td>REPECHAJE</td>\n      <td>False</td>\n    </tr>\n    <tr>\n      <th>0</th>\n      <td>Juan</td>\n      <td>Osorio</td>\n      <td>M</td>\n      <td>65.02</td>\n      <td>54.81</td>\n      <td>39.02</td>\n      <td>56.76</td>\n      <td>REPECHAJE</td>\n      <td>False</td>\n    </tr>\n    <tr>\n      <th>4</th>\n      <td>Sergio</td>\n      <td>Osorio</td>\n      <td>M</td>\n      <td>59.71</td>\n      <td>31.53</td>\n      <td>84.20</td>\n      <td>56.15</td>\n      <td>REPECHAJE</td>\n      <td>False</td>\n    </tr>\n    <tr>\n      <th>5</th>\n      <td>María</td>\n      <td>Osorio</td>\n      <td>F</td>\n      <td>63.93</td>\n      <td>44.69</td>\n      <td>80.72</td>\n      <td>61.52</td>\n      <td>APROBADO</td>\n      <td>False</td>\n    </tr>\n  </tbody>\n</table>\n</div>"
     },
     "metadata": {},
     "execution_count": 219
    }
   ],
   "source": [
    "RUBRICA_DF_HERMANOS=RUBRICA_DF[RUBRICA_DF['NO HERMANOS']==False].sort_values(by='APELLIDOS', ascending=True)\n",
    "RUBRICA_DF_HERMANOS"
   ]
  },
  {
   "source": [
    "2.6 Haga 3 dataframe, 1 que contenga los que tienen 70 o mas en matematicas, otro con 70 o mas en castellano y otro con 70 o mas en ciencias"
   ],
   "cell_type": "markdown",
   "metadata": {}
  },
  {
   "cell_type": "code",
   "execution_count": 230,
   "metadata": {},
   "outputs": [],
   "source": [
    "RUBRICA_DF_APROBADOS=RUBRICA_DF[RUBRICA_DF['RESULTADO']=='APROBADO']\n",
    "RUBRICA_DF_REPECHAJE=RUBRICA_DF[RUBRICA_DF['RESULTADO']=='REPECHAJE']\n",
    "RUBRICA_DF_REPROBRADOS=RUBRICA_DF[RUBRICA_DF['RESULTADO']=='REPROBADO']"
   ]
  },
  {
   "cell_type": "code",
   "execution_count": 232,
   "metadata": {},
   "outputs": [
    {
     "output_type": "execute_result",
     "data": {
      "text/plain": [
       "      NOMBRES   APELLIDOS GENERO  MATEMATICAS  CASTELLANO  CIENCIAS  PROMEDIO  \\\n",
       "0        Juan      Osorio      M        65.02       54.81     39.02     56.76   \n",
       "3   Constanza    Ljubetic      F        82.54       18.21     53.15     57.36   \n",
       "4      Sergio      Osorio      M        59.71       31.53     84.20     56.15   \n",
       "9     Roberto  Altamirano      M        72.18       54.55     33.93     59.24   \n",
       "11  Cristobal    Gonzalez      M        82.06       22.68     38.16     55.46   \n",
       "14  Alejandra    Mardones      F        68.84       23.35     51.96     51.82   \n",
       "\n",
       "    RESULTADO  NO HERMANOS  \n",
       "0   REPECHAJE        False  \n",
       "3   REPECHAJE         True  \n",
       "4   REPECHAJE        False  \n",
       "9   REPECHAJE         True  \n",
       "11  REPECHAJE        False  \n",
       "14  REPECHAJE         True  "
      ],
      "text/html": "<div>\n<style scoped>\n    .dataframe tbody tr th:only-of-type {\n        vertical-align: middle;\n    }\n\n    .dataframe tbody tr th {\n        vertical-align: top;\n    }\n\n    .dataframe thead th {\n        text-align: right;\n    }\n</style>\n<table border=\"1\" class=\"dataframe\">\n  <thead>\n    <tr style=\"text-align: right;\">\n      <th></th>\n      <th>NOMBRES</th>\n      <th>APELLIDOS</th>\n      <th>GENERO</th>\n      <th>MATEMATICAS</th>\n      <th>CASTELLANO</th>\n      <th>CIENCIAS</th>\n      <th>PROMEDIO</th>\n      <th>RESULTADO</th>\n      <th>NO HERMANOS</th>\n    </tr>\n  </thead>\n  <tbody>\n    <tr>\n      <th>0</th>\n      <td>Juan</td>\n      <td>Osorio</td>\n      <td>M</td>\n      <td>65.02</td>\n      <td>54.81</td>\n      <td>39.02</td>\n      <td>56.76</td>\n      <td>REPECHAJE</td>\n      <td>False</td>\n    </tr>\n    <tr>\n      <th>3</th>\n      <td>Constanza</td>\n      <td>Ljubetic</td>\n      <td>F</td>\n      <td>82.54</td>\n      <td>18.21</td>\n      <td>53.15</td>\n      <td>57.36</td>\n      <td>REPECHAJE</td>\n      <td>True</td>\n    </tr>\n    <tr>\n      <th>4</th>\n      <td>Sergio</td>\n      <td>Osorio</td>\n      <td>M</td>\n      <td>59.71</td>\n      <td>31.53</td>\n      <td>84.20</td>\n      <td>56.15</td>\n      <td>REPECHAJE</td>\n      <td>False</td>\n    </tr>\n    <tr>\n      <th>9</th>\n      <td>Roberto</td>\n      <td>Altamirano</td>\n      <td>M</td>\n      <td>72.18</td>\n      <td>54.55</td>\n      <td>33.93</td>\n      <td>59.24</td>\n      <td>REPECHAJE</td>\n      <td>True</td>\n    </tr>\n    <tr>\n      <th>11</th>\n      <td>Cristobal</td>\n      <td>Gonzalez</td>\n      <td>M</td>\n      <td>82.06</td>\n      <td>22.68</td>\n      <td>38.16</td>\n      <td>55.46</td>\n      <td>REPECHAJE</td>\n      <td>False</td>\n    </tr>\n    <tr>\n      <th>14</th>\n      <td>Alejandra</td>\n      <td>Mardones</td>\n      <td>F</td>\n      <td>68.84</td>\n      <td>23.35</td>\n      <td>51.96</td>\n      <td>51.82</td>\n      <td>REPECHAJE</td>\n      <td>True</td>\n    </tr>\n  </tbody>\n</table>\n</div>"
     },
     "metadata": {},
     "execution_count": 232
    }
   ],
   "source": [
    "RUBRICA_DF_REPECHAJE"
   ]
  },
  {
   "source": [
    "2.7 Elimine al hermano con peores notas dentro del dataframe, para esto use sort para ordenar y el metodo duplicates"
   ],
   "cell_type": "markdown",
   "metadata": {}
  },
  {
   "cell_type": "code",
   "execution_count": 249,
   "metadata": {},
   "outputs": [
    {
     "output_type": "execute_result",
     "data": {
      "text/plain": [
       "      NOMBRES   APELLIDOS GENERO  MATEMATICAS  CASTELLANO  CIENCIAS  PROMEDIO  \\\n",
       "2     Esteban     Serrano      M        79.57       49.41     79.75     70.56   \n",
       "12   Virginia   Ripamonti      F        84.89       56.71     85.73     76.61   \n",
       "5       María      Osorio      F        63.93       44.69     80.72     61.52   \n",
       "13     Amanda      Olmedo      F        78.67       45.17     63.08     65.50   \n",
       "14  Alejandra    Mardones      F        68.84       23.35     51.96     51.82   \n",
       "3   Constanza    Ljubetic      F        82.54       18.21     53.15     57.36   \n",
       "6       Kathy     Herrada      F        72.35       50.33     65.66     64.41   \n",
       "10     Andrea    Gonzalez      F        63.89       56.61     64.23     61.78   \n",
       "8      Damian      Caroca      M        83.94       42.11     77.14     70.03   \n",
       "1       Diego      Bertin      M        83.87       57.63    100.00     79.22   \n",
       "9     Roberto  Altamirano      M        72.18       54.55     33.93     59.24   \n",
       "\n",
       "    RESULTADO  NO HERMANOS  se elimina  \n",
       "2    APROBADO         True       False  \n",
       "12   APROBADO         True       False  \n",
       "5    APROBADO        False       False  \n",
       "13   APROBADO         True       False  \n",
       "14  REPECHAJE         True       False  \n",
       "3   REPECHAJE         True       False  \n",
       "6    APROBADO         True       False  \n",
       "10   APROBADO        False       False  \n",
       "8    APROBADO         True       False  \n",
       "1    APROBADO        False       False  \n",
       "9   REPECHAJE         True       False  "
      ],
      "text/html": "<div>\n<style scoped>\n    .dataframe tbody tr th:only-of-type {\n        vertical-align: middle;\n    }\n\n    .dataframe tbody tr th {\n        vertical-align: top;\n    }\n\n    .dataframe thead th {\n        text-align: right;\n    }\n</style>\n<table border=\"1\" class=\"dataframe\">\n  <thead>\n    <tr style=\"text-align: right;\">\n      <th></th>\n      <th>NOMBRES</th>\n      <th>APELLIDOS</th>\n      <th>GENERO</th>\n      <th>MATEMATICAS</th>\n      <th>CASTELLANO</th>\n      <th>CIENCIAS</th>\n      <th>PROMEDIO</th>\n      <th>RESULTADO</th>\n      <th>NO HERMANOS</th>\n      <th>se elimina</th>\n    </tr>\n  </thead>\n  <tbody>\n    <tr>\n      <th>2</th>\n      <td>Esteban</td>\n      <td>Serrano</td>\n      <td>M</td>\n      <td>79.57</td>\n      <td>49.41</td>\n      <td>79.75</td>\n      <td>70.56</td>\n      <td>APROBADO</td>\n      <td>True</td>\n      <td>False</td>\n    </tr>\n    <tr>\n      <th>12</th>\n      <td>Virginia</td>\n      <td>Ripamonti</td>\n      <td>F</td>\n      <td>84.89</td>\n      <td>56.71</td>\n      <td>85.73</td>\n      <td>76.61</td>\n      <td>APROBADO</td>\n      <td>True</td>\n      <td>False</td>\n    </tr>\n    <tr>\n      <th>5</th>\n      <td>María</td>\n      <td>Osorio</td>\n      <td>F</td>\n      <td>63.93</td>\n      <td>44.69</td>\n      <td>80.72</td>\n      <td>61.52</td>\n      <td>APROBADO</td>\n      <td>False</td>\n      <td>False</td>\n    </tr>\n    <tr>\n      <th>13</th>\n      <td>Amanda</td>\n      <td>Olmedo</td>\n      <td>F</td>\n      <td>78.67</td>\n      <td>45.17</td>\n      <td>63.08</td>\n      <td>65.50</td>\n      <td>APROBADO</td>\n      <td>True</td>\n      <td>False</td>\n    </tr>\n    <tr>\n      <th>14</th>\n      <td>Alejandra</td>\n      <td>Mardones</td>\n      <td>F</td>\n      <td>68.84</td>\n      <td>23.35</td>\n      <td>51.96</td>\n      <td>51.82</td>\n      <td>REPECHAJE</td>\n      <td>True</td>\n      <td>False</td>\n    </tr>\n    <tr>\n      <th>3</th>\n      <td>Constanza</td>\n      <td>Ljubetic</td>\n      <td>F</td>\n      <td>82.54</td>\n      <td>18.21</td>\n      <td>53.15</td>\n      <td>57.36</td>\n      <td>REPECHAJE</td>\n      <td>True</td>\n      <td>False</td>\n    </tr>\n    <tr>\n      <th>6</th>\n      <td>Kathy</td>\n      <td>Herrada</td>\n      <td>F</td>\n      <td>72.35</td>\n      <td>50.33</td>\n      <td>65.66</td>\n      <td>64.41</td>\n      <td>APROBADO</td>\n      <td>True</td>\n      <td>False</td>\n    </tr>\n    <tr>\n      <th>10</th>\n      <td>Andrea</td>\n      <td>Gonzalez</td>\n      <td>F</td>\n      <td>63.89</td>\n      <td>56.61</td>\n      <td>64.23</td>\n      <td>61.78</td>\n      <td>APROBADO</td>\n      <td>False</td>\n      <td>False</td>\n    </tr>\n    <tr>\n      <th>8</th>\n      <td>Damian</td>\n      <td>Caroca</td>\n      <td>M</td>\n      <td>83.94</td>\n      <td>42.11</td>\n      <td>77.14</td>\n      <td>70.03</td>\n      <td>APROBADO</td>\n      <td>True</td>\n      <td>False</td>\n    </tr>\n    <tr>\n      <th>1</th>\n      <td>Diego</td>\n      <td>Bertin</td>\n      <td>M</td>\n      <td>83.87</td>\n      <td>57.63</td>\n      <td>100.00</td>\n      <td>79.22</td>\n      <td>APROBADO</td>\n      <td>False</td>\n      <td>False</td>\n    </tr>\n    <tr>\n      <th>9</th>\n      <td>Roberto</td>\n      <td>Altamirano</td>\n      <td>M</td>\n      <td>72.18</td>\n      <td>54.55</td>\n      <td>33.93</td>\n      <td>59.24</td>\n      <td>REPECHAJE</td>\n      <td>True</td>\n      <td>False</td>\n    </tr>\n  </tbody>\n</table>\n</div>"
     },
     "metadata": {},
     "execution_count": 249
    }
   ],
   "source": [
    "RUBRICA_DF['se elimina']=RUBRICA_DF.sort_values(by=['APELLIDOS','PROMEDIO'],ascending=False).duplicated(subset='APELLIDOS',keep='first')\n",
    "RUBRICA_DF[RUBRICA_DF['se elimina']==False].sort_values(by=['APELLIDOS','PROMEDIO'],ascending=False)"
   ]
  },
  {
   "source": [
    "2.8 Repita el ejercicio 2.7 pero con el mètodo drop_duplicates()"
   ],
   "cell_type": "markdown",
   "metadata": {}
  },
  {
   "cell_type": "code",
   "execution_count": 250,
   "metadata": {},
   "outputs": [
    {
     "output_type": "execute_result",
     "data": {
      "text/plain": [
       "      NOMBRES   APELLIDOS GENERO  MATEMATICAS  CASTELLANO  CIENCIAS  PROMEDIO  \\\n",
       "2     Esteban     Serrano      M        79.57       49.41     79.75     70.56   \n",
       "12   Virginia   Ripamonti      F        84.89       56.71     85.73     76.61   \n",
       "5       María      Osorio      F        63.93       44.69     80.72     61.52   \n",
       "13     Amanda      Olmedo      F        78.67       45.17     63.08     65.50   \n",
       "14  Alejandra    Mardones      F        68.84       23.35     51.96     51.82   \n",
       "3   Constanza    Ljubetic      F        82.54       18.21     53.15     57.36   \n",
       "6       Kathy     Herrada      F        72.35       50.33     65.66     64.41   \n",
       "10     Andrea    Gonzalez      F        63.89       56.61     64.23     61.78   \n",
       "8      Damian      Caroca      M        83.94       42.11     77.14     70.03   \n",
       "1       Diego      Bertin      M        83.87       57.63    100.00     79.22   \n",
       "9     Roberto  Altamirano      M        72.18       54.55     33.93     59.24   \n",
       "\n",
       "    RESULTADO  NO HERMANOS  se elimina  \n",
       "2    APROBADO         True       False  \n",
       "12   APROBADO         True       False  \n",
       "5    APROBADO        False       False  \n",
       "13   APROBADO         True       False  \n",
       "14  REPECHAJE         True       False  \n",
       "3   REPECHAJE         True       False  \n",
       "6    APROBADO         True       False  \n",
       "10   APROBADO        False       False  \n",
       "8    APROBADO         True       False  \n",
       "1    APROBADO        False       False  \n",
       "9   REPECHAJE         True       False  "
      ],
      "text/html": "<div>\n<style scoped>\n    .dataframe tbody tr th:only-of-type {\n        vertical-align: middle;\n    }\n\n    .dataframe tbody tr th {\n        vertical-align: top;\n    }\n\n    .dataframe thead th {\n        text-align: right;\n    }\n</style>\n<table border=\"1\" class=\"dataframe\">\n  <thead>\n    <tr style=\"text-align: right;\">\n      <th></th>\n      <th>NOMBRES</th>\n      <th>APELLIDOS</th>\n      <th>GENERO</th>\n      <th>MATEMATICAS</th>\n      <th>CASTELLANO</th>\n      <th>CIENCIAS</th>\n      <th>PROMEDIO</th>\n      <th>RESULTADO</th>\n      <th>NO HERMANOS</th>\n      <th>se elimina</th>\n    </tr>\n  </thead>\n  <tbody>\n    <tr>\n      <th>2</th>\n      <td>Esteban</td>\n      <td>Serrano</td>\n      <td>M</td>\n      <td>79.57</td>\n      <td>49.41</td>\n      <td>79.75</td>\n      <td>70.56</td>\n      <td>APROBADO</td>\n      <td>True</td>\n      <td>False</td>\n    </tr>\n    <tr>\n      <th>12</th>\n      <td>Virginia</td>\n      <td>Ripamonti</td>\n      <td>F</td>\n      <td>84.89</td>\n      <td>56.71</td>\n      <td>85.73</td>\n      <td>76.61</td>\n      <td>APROBADO</td>\n      <td>True</td>\n      <td>False</td>\n    </tr>\n    <tr>\n      <th>5</th>\n      <td>María</td>\n      <td>Osorio</td>\n      <td>F</td>\n      <td>63.93</td>\n      <td>44.69</td>\n      <td>80.72</td>\n      <td>61.52</td>\n      <td>APROBADO</td>\n      <td>False</td>\n      <td>False</td>\n    </tr>\n    <tr>\n      <th>13</th>\n      <td>Amanda</td>\n      <td>Olmedo</td>\n      <td>F</td>\n      <td>78.67</td>\n      <td>45.17</td>\n      <td>63.08</td>\n      <td>65.50</td>\n      <td>APROBADO</td>\n      <td>True</td>\n      <td>False</td>\n    </tr>\n    <tr>\n      <th>14</th>\n      <td>Alejandra</td>\n      <td>Mardones</td>\n      <td>F</td>\n      <td>68.84</td>\n      <td>23.35</td>\n      <td>51.96</td>\n      <td>51.82</td>\n      <td>REPECHAJE</td>\n      <td>True</td>\n      <td>False</td>\n    </tr>\n    <tr>\n      <th>3</th>\n      <td>Constanza</td>\n      <td>Ljubetic</td>\n      <td>F</td>\n      <td>82.54</td>\n      <td>18.21</td>\n      <td>53.15</td>\n      <td>57.36</td>\n      <td>REPECHAJE</td>\n      <td>True</td>\n      <td>False</td>\n    </tr>\n    <tr>\n      <th>6</th>\n      <td>Kathy</td>\n      <td>Herrada</td>\n      <td>F</td>\n      <td>72.35</td>\n      <td>50.33</td>\n      <td>65.66</td>\n      <td>64.41</td>\n      <td>APROBADO</td>\n      <td>True</td>\n      <td>False</td>\n    </tr>\n    <tr>\n      <th>10</th>\n      <td>Andrea</td>\n      <td>Gonzalez</td>\n      <td>F</td>\n      <td>63.89</td>\n      <td>56.61</td>\n      <td>64.23</td>\n      <td>61.78</td>\n      <td>APROBADO</td>\n      <td>False</td>\n      <td>False</td>\n    </tr>\n    <tr>\n      <th>8</th>\n      <td>Damian</td>\n      <td>Caroca</td>\n      <td>M</td>\n      <td>83.94</td>\n      <td>42.11</td>\n      <td>77.14</td>\n      <td>70.03</td>\n      <td>APROBADO</td>\n      <td>True</td>\n      <td>False</td>\n    </tr>\n    <tr>\n      <th>1</th>\n      <td>Diego</td>\n      <td>Bertin</td>\n      <td>M</td>\n      <td>83.87</td>\n      <td>57.63</td>\n      <td>100.00</td>\n      <td>79.22</td>\n      <td>APROBADO</td>\n      <td>False</td>\n      <td>False</td>\n    </tr>\n    <tr>\n      <th>9</th>\n      <td>Roberto</td>\n      <td>Altamirano</td>\n      <td>M</td>\n      <td>72.18</td>\n      <td>54.55</td>\n      <td>33.93</td>\n      <td>59.24</td>\n      <td>REPECHAJE</td>\n      <td>True</td>\n      <td>False</td>\n    </tr>\n  </tbody>\n</table>\n</div>"
     },
     "metadata": {},
     "execution_count": 250
    }
   ],
   "source": [
    "RUBRICA_DF.sort_values(by=['APELLIDOS','PROMEDIO'],ascending=False).drop_duplicates(subset='APELLIDOS',keep='first').sort_values(by=['APELLIDOS','PROMEDIO'],ascending=False)"
   ]
  },
  {
   "source": [
    "2.9 Use el método unique() y nunique() para guardar los valores unicos y los duplicados en 2 dataframes distintos"
   ],
   "cell_type": "markdown",
   "metadata": {}
  },
  {
   "cell_type": "code",
   "execution_count": 254,
   "metadata": {},
   "outputs": [
    {
     "output_type": "execute_result",
     "data": {
      "text/plain": [
       "array(['Osorio', 'Bertin', 'Serrano', 'Ljubetic', 'Herrada', 'Caroca',\n",
       "       'Altamirano', 'Gonzalez', 'Ripamonti', 'Olmedo', 'Mardones'],\n",
       "      dtype=object)"
      ]
     },
     "metadata": {},
     "execution_count": 254
    }
   ],
   "source": [
    "RUBRICA_DF['APELLIDOS'].unique()"
   ]
  },
  {
   "cell_type": "code",
   "execution_count": 255,
   "metadata": {},
   "outputs": [
    {
     "output_type": "execute_result",
     "data": {
      "text/plain": [
       "11"
      ]
     },
     "metadata": {},
     "execution_count": 255
    }
   ],
   "source": [
    "RUBRICA_DF['APELLIDOS'].nunique()"
   ]
  },
  {
   "source": [
    "# PARTE 3"
   ],
   "cell_type": "markdown",
   "metadata": {}
  },
  {
   "source": [
    "3.1 Genere una funciona multiplicacion de 3 valores"
   ],
   "cell_type": "markdown",
   "metadata": {}
  },
  {
   "cell_type": "code",
   "execution_count": 256,
   "metadata": {},
   "outputs": [],
   "source": [
    "def multi(a,b,c):\n",
    "    resultado=a*b*c\n",
    "    return(resultado)"
   ]
  },
  {
   "cell_type": "code",
   "execution_count": 257,
   "metadata": {},
   "outputs": [
    {
     "output_type": "execute_result",
     "data": {
      "text/plain": [
       "100"
      ]
     },
     "metadata": {},
     "execution_count": 257
    }
   ],
   "source": [
    "multi(5,5,4)"
   ]
  },
  {
   "source": [
    "3.2 genere una lista random sin largo, que se llene en un for aleatorio entre 1 y 100, con numeros aleatorios entre 1 y 1000"
   ],
   "cell_type": "markdown",
   "metadata": {}
  },
  {
   "cell_type": "code",
   "execution_count": 295,
   "metadata": {},
   "outputs": [
    {
     "output_type": "execute_result",
     "data": {
      "text/plain": [
       "13"
      ]
     },
     "metadata": {},
     "execution_count": 295
    }
   ],
   "source": [
    "import math as mt\n",
    "n_max=mt.trunc(100*rd.random())\n",
    "lista=[]\n",
    "for i in range(1,n_max):\n",
    "    lista.append(mt.trunc(1000*rd.random()))\n",
    "len(lista)"
   ]
  },
  {
   "cell_type": "code",
   "execution_count": 296,
   "metadata": {},
   "outputs": [
    {
     "output_type": "execute_result",
     "data": {
      "text/plain": [
       "[987, 551, 767, 676, 211, 158, 951, 399, 834, 295, 794, 723, 43]"
      ]
     },
     "metadata": {},
     "execution_count": 296
    }
   ],
   "source": [
    "lista"
   ]
  },
  {
   "source": [
    "3.3 Haga una pregunta de como se llama, que edad tiene, y devuelva el resultado _____ puede/no puede beber alcohol, la condicion es que sea mayor a 18 años"
   ],
   "cell_type": "markdown",
   "metadata": {}
  },
  {
   "cell_type": "code",
   "execution_count": 300,
   "metadata": {},
   "outputs": [
    {
     "output_type": "stream",
     "name": "stdout",
     "text": [
      "Diego no puede beber alcohol, pues tiene 14 , y el alcohol es sólo para mayores de 18\n"
     ]
    }
   ],
   "source": [
    "nombre=input(\"Por favor su nombre:\")\n",
    "edad=input(\"Agregue su edad:\")\n",
    "if int(edad)<18:\n",
    "    print(nombre + \" no puede beber alcohol, pues tiene \"+edad+\" , y el alcohol es sólo para mayores de 18\")\n",
    "else:\n",
    "    print(nombre + \" puede beber alcohol, pues tiene \"+edad+\" , cumple con el minimo\")"
   ]
  },
  {
   "source": [
    "3.4 Del ejercicio anterior, agregue la variable de si la edad està entre 18 y 21 años, puede beber pero con supervicion de otro adulto"
   ],
   "cell_type": "markdown",
   "metadata": {}
  },
  {
   "cell_type": "code",
   "execution_count": 301,
   "metadata": {},
   "outputs": [
    {
     "output_type": "stream",
     "name": "stdout",
     "text": [
      "Diego puede beber alcohol solo con un adulto, pues tiene 20 , y necesita supervisiòn\n"
     ]
    }
   ],
   "source": [
    "nombre=input(\"Por favor su nombre:\")\n",
    "edad=input(\"Agregue su edad:\")\n",
    "if int(edad)<18:\n",
    "    print(nombre + \" no puede beber alcohol, pues tiene \"+edad+\" , y el alcohol es sólo para mayores de 18\")\n",
    "else:\n",
    "    if int(edad)<21:\n",
    "        print(nombre + \" puede beber alcohol solo con un adulto, pues tiene \"+edad+\" , y necesita supervisiòn\")\n",
    "    else:\n",
    "        print(nombre + \" puede beber alcohol, pues tiene \"+edad+\" , y es un adulto responsable\")\n"
   ]
  },
  {
   "source": [
    "# PARTE 4"
   ],
   "cell_type": "markdown",
   "metadata": {}
  },
  {
   "source": [
    "4.1 Consulte el dataframe de futbol ingles visto en clase https://www.football-data.co.uk/data.php"
   ],
   "cell_type": "markdown",
   "metadata": {}
  },
  {
   "cell_type": "code",
   "execution_count": 19,
   "metadata": {},
   "outputs": [],
   "source": [
    "import pandas as pd\n",
    "import numpy as np \n",
    "root='https://www.football-data.co.uk/mmz4281/'\n",
    "temporada=[2324,2223,2122,2021,1920,1819]\n",
    "diccionario=['E0','E1','E2','E3','EC']\n",
    "archivo_descarga={'Premier League':'E0','Championship':'E1','League 1':'E2','League 2':'E3','Conference':'EC'}\n",
    "#la pagina web queda de esta manera\n",
    "#pagina_web=root+str(temporada[j])+'/'+diccionario[i]+'.csv'"
   ]
  },
  {
   "source": [
    "4.2 Cargue en un dataframe todas las ligas entre 2023 y 2019"
   ],
   "cell_type": "markdown",
   "metadata": {}
  },
  {
   "cell_type": "code",
   "execution_count": 28,
   "metadata": {},
   "outputs": [],
   "source": [
    "frames=[]\n",
    "for i in range(0,4):\n",
    "    for j in range(0,5):\n",
    "        pagina_web=root+str(temporada[j])+'/'+diccionario[i]+'.csv'\n",
    "        dataframe=pd.read_csv(pagina_web)\n",
    "        frames.append(dataframe) #importante va dejando abajo los nuevos df"
   ]
  },
  {
   "source": [
    "4.3 Agregue una columna llamada \"temporada\", que sea el año que se supone que es la liga"
   ],
   "cell_type": "markdown",
   "metadata": {}
  },
  {
   "cell_type": "code",
   "execution_count": 36,
   "metadata": {},
   "outputs": [],
   "source": [
    "frames=[]\n",
    "for i in range(0,4):\n",
    "    for j in range(0,5):\n",
    "        pagina_web=root+str(temporada[j])+'/'+diccionario[i]+'.csv'\n",
    "        dataframe=pd.read_csv(pagina_web)\n",
    "        dataframe.insert(0,'temporada',temporada[j])  #agregamos columna en posicion 0\n",
    "        frames.append(dataframe) #importante va dejando abajo los nuevos df"
   ]
  },
  {
   "source": [
    "4.4 Haga un diccionario de transcripcion de nombre de ligas"
   ],
   "cell_type": "markdown",
   "metadata": {}
  },
  {
   "cell_type": "code",
   "execution_count": 71,
   "metadata": {},
   "outputs": [],
   "source": [
    "root='https://www.football-data.co.uk/mmz4281/'\n",
    "temporada=[2324,2223,2122,2021,1920,1819]\n",
    "archivo_descarga={'Premier League':'E0','Championship':'E1','League 1':'E2','League 2':'E3','Conference':'EC'}\n",
    "frames_por_liga=[] #lista\n",
    "diccionario_de_frames_por_ligas={}  #diccionario\n",
    "for i in archivo_descarga: #cacha que para poder hacerlo en un diccionario, el for tiene un diccionario, el i es premier leage, championship, etc\n",
    "    frames_por_liga=[]\n",
    "    for j in range(0,5):\n",
    "        pagina_web=root+str(temporada[j])+'/'+archivo_descarga[i]+'.csv' #aca el archivo de descarga traduce\n",
    "        dataframe=pd.read_csv(pagina_web, encoding='unicode_escape')\n",
    "        dataframe.insert(0,'temporada',temporada[j])  #agregamos columna en posicion 0\n",
    "        dataframe.insert(0,'liga',i)  #agregamos columna en posicion 0, el i es premier leage, championship, etc\n",
    "        frames_por_liga.append(dataframe) #importante va dejando abajo los nuevos df\n",
    "    frames_por_liga=pd.concat(frames_por_liga)\n",
    "    diccionario_de_frames_por_ligas[i]=frames_por_liga\n",
    "#resumen, me hice una raiz\n",
    "#hice una lista con temporadas y con las ligas\n",
    "#hice un diccionario con el significado de la liga en nombre\n",
    "#el resultado es un diccionario que contiene dataframes\n"
   ]
  },
  {
   "cell_type": "code",
   "execution_count": 67,
   "metadata": {},
   "outputs": [
    {
     "output_type": "execute_result",
     "data": {
      "text/plain": [
       "             liga  temporada Div        Date   Time      HomeTeam  \\\n",
       "0    Championship       2223  E1  29/07/2022  20:00  Huddersfield   \n",
       "1    Championship       2223  E1  30/07/2022  15:00     Blackburn   \n",
       "2    Championship       2223  E1  30/07/2022  15:00     Blackpool   \n",
       "3    Championship       2223  E1  30/07/2022  15:00       Cardiff   \n",
       "4    Championship       2223  E1  30/07/2022  15:00          Hull   \n",
       "..            ...        ...  ..         ...    ...           ...   \n",
       "547  Championship       2223  E1  08/05/2023  15:00       Preston   \n",
       "548  Championship       2223  E1  08/05/2023  15:00           QPR   \n",
       "549  Championship       2223  E1  08/05/2023  15:00       Swansea   \n",
       "550  Championship       2223  E1  08/05/2023  15:00       Watford   \n",
       "551  Championship       2223  E1  08/05/2023  15:00         Wigan   \n",
       "\n",
       "         AwayTeam  FTHG  FTAG FTR  ...  AvgC<2.5  AHCh B365CAHH B365CAHA  \\\n",
       "0         Burnley     0     1   A  ...      1.63  0.00     2.09     1.81   \n",
       "1             QPR     1     0   H  ...      1.86 -0.50     1.99     1.91   \n",
       "2         Reading     1     0   H  ...      1.82 -0.50     2.08     1.82   \n",
       "3         Norwich     1     0   H  ...      1.71  0.25     2.01     1.89   \n",
       "4    Bristol City     2     1   H  ...      1.73 -0.25     2.10     1.70   \n",
       "..            ...   ...   ...  ..  ...       ...   ...      ...      ...   \n",
       "547    Sunderland     0     3   A  ...      2.24  0.50     1.82     2.08   \n",
       "548  Bristol City     0     2   A  ...      1.95  0.00     1.84     2.06   \n",
       "549     West Brom     3     2   H  ...      2.23  0.25     1.87     2.03   \n",
       "550         Stoke     2     0   H  ...      1.85  0.00     1.90     2.00   \n",
       "551     Rotherham     0     0   D  ...      1.91  0.00     2.00     1.90   \n",
       "\n",
       "     PCAHH  PCAHA  MaxCAHH  MaxCAHA  AvgCAHH  AvgCAHA  \n",
       "0     2.10   1.82     2.14     1.83     2.09     1.78  \n",
       "1     2.01   1.90     2.01     1.95     1.97     1.88  \n",
       "2     2.06   1.86     2.11     1.86     2.04     1.82  \n",
       "3     2.00   1.90     2.03     2.00     1.95     1.89  \n",
       "4     2.12   1.81     2.17     1.81     2.09     1.77  \n",
       "..     ...    ...      ...      ...      ...      ...  \n",
       "547   1.83   2.09     1.95     2.09     1.86     1.97  \n",
       "548   1.84   2.07     1.91     2.07     1.85     1.99  \n",
       "549   1.86   2.05     1.92     2.12     1.84     2.00  \n",
       "550   1.88   2.02     1.91     2.12     1.79     2.06  \n",
       "551   2.04   1.88     2.08     1.90     2.01     1.83  \n",
       "\n",
       "[552 rows x 108 columns]"
      ],
      "text/html": "<div>\n<style scoped>\n    .dataframe tbody tr th:only-of-type {\n        vertical-align: middle;\n    }\n\n    .dataframe tbody tr th {\n        vertical-align: top;\n    }\n\n    .dataframe thead th {\n        text-align: right;\n    }\n</style>\n<table border=\"1\" class=\"dataframe\">\n  <thead>\n    <tr style=\"text-align: right;\">\n      <th></th>\n      <th>liga</th>\n      <th>temporada</th>\n      <th>Div</th>\n      <th>Date</th>\n      <th>Time</th>\n      <th>HomeTeam</th>\n      <th>AwayTeam</th>\n      <th>FTHG</th>\n      <th>FTAG</th>\n      <th>FTR</th>\n      <th>...</th>\n      <th>AvgC&lt;2.5</th>\n      <th>AHCh</th>\n      <th>B365CAHH</th>\n      <th>B365CAHA</th>\n      <th>PCAHH</th>\n      <th>PCAHA</th>\n      <th>MaxCAHH</th>\n      <th>MaxCAHA</th>\n      <th>AvgCAHH</th>\n      <th>AvgCAHA</th>\n    </tr>\n  </thead>\n  <tbody>\n    <tr>\n      <th>0</th>\n      <td>Championship</td>\n      <td>2223</td>\n      <td>E1</td>\n      <td>29/07/2022</td>\n      <td>20:00</td>\n      <td>Huddersfield</td>\n      <td>Burnley</td>\n      <td>0</td>\n      <td>1</td>\n      <td>A</td>\n      <td>...</td>\n      <td>1.63</td>\n      <td>0.00</td>\n      <td>2.09</td>\n      <td>1.81</td>\n      <td>2.10</td>\n      <td>1.82</td>\n      <td>2.14</td>\n      <td>1.83</td>\n      <td>2.09</td>\n      <td>1.78</td>\n    </tr>\n    <tr>\n      <th>1</th>\n      <td>Championship</td>\n      <td>2223</td>\n      <td>E1</td>\n      <td>30/07/2022</td>\n      <td>15:00</td>\n      <td>Blackburn</td>\n      <td>QPR</td>\n      <td>1</td>\n      <td>0</td>\n      <td>H</td>\n      <td>...</td>\n      <td>1.86</td>\n      <td>-0.50</td>\n      <td>1.99</td>\n      <td>1.91</td>\n      <td>2.01</td>\n      <td>1.90</td>\n      <td>2.01</td>\n      <td>1.95</td>\n      <td>1.97</td>\n      <td>1.88</td>\n    </tr>\n    <tr>\n      <th>2</th>\n      <td>Championship</td>\n      <td>2223</td>\n      <td>E1</td>\n      <td>30/07/2022</td>\n      <td>15:00</td>\n      <td>Blackpool</td>\n      <td>Reading</td>\n      <td>1</td>\n      <td>0</td>\n      <td>H</td>\n      <td>...</td>\n      <td>1.82</td>\n      <td>-0.50</td>\n      <td>2.08</td>\n      <td>1.82</td>\n      <td>2.06</td>\n      <td>1.86</td>\n      <td>2.11</td>\n      <td>1.86</td>\n      <td>2.04</td>\n      <td>1.82</td>\n    </tr>\n    <tr>\n      <th>3</th>\n      <td>Championship</td>\n      <td>2223</td>\n      <td>E1</td>\n      <td>30/07/2022</td>\n      <td>15:00</td>\n      <td>Cardiff</td>\n      <td>Norwich</td>\n      <td>1</td>\n      <td>0</td>\n      <td>H</td>\n      <td>...</td>\n      <td>1.71</td>\n      <td>0.25</td>\n      <td>2.01</td>\n      <td>1.89</td>\n      <td>2.00</td>\n      <td>1.90</td>\n      <td>2.03</td>\n      <td>2.00</td>\n      <td>1.95</td>\n      <td>1.89</td>\n    </tr>\n    <tr>\n      <th>4</th>\n      <td>Championship</td>\n      <td>2223</td>\n      <td>E1</td>\n      <td>30/07/2022</td>\n      <td>15:00</td>\n      <td>Hull</td>\n      <td>Bristol City</td>\n      <td>2</td>\n      <td>1</td>\n      <td>H</td>\n      <td>...</td>\n      <td>1.73</td>\n      <td>-0.25</td>\n      <td>2.10</td>\n      <td>1.70</td>\n      <td>2.12</td>\n      <td>1.81</td>\n      <td>2.17</td>\n      <td>1.81</td>\n      <td>2.09</td>\n      <td>1.77</td>\n    </tr>\n    <tr>\n      <th>...</th>\n      <td>...</td>\n      <td>...</td>\n      <td>...</td>\n      <td>...</td>\n      <td>...</td>\n      <td>...</td>\n      <td>...</td>\n      <td>...</td>\n      <td>...</td>\n      <td>...</td>\n      <td>...</td>\n      <td>...</td>\n      <td>...</td>\n      <td>...</td>\n      <td>...</td>\n      <td>...</td>\n      <td>...</td>\n      <td>...</td>\n      <td>...</td>\n      <td>...</td>\n      <td>...</td>\n    </tr>\n    <tr>\n      <th>547</th>\n      <td>Championship</td>\n      <td>2223</td>\n      <td>E1</td>\n      <td>08/05/2023</td>\n      <td>15:00</td>\n      <td>Preston</td>\n      <td>Sunderland</td>\n      <td>0</td>\n      <td>3</td>\n      <td>A</td>\n      <td>...</td>\n      <td>2.24</td>\n      <td>0.50</td>\n      <td>1.82</td>\n      <td>2.08</td>\n      <td>1.83</td>\n      <td>2.09</td>\n      <td>1.95</td>\n      <td>2.09</td>\n      <td>1.86</td>\n      <td>1.97</td>\n    </tr>\n    <tr>\n      <th>548</th>\n      <td>Championship</td>\n      <td>2223</td>\n      <td>E1</td>\n      <td>08/05/2023</td>\n      <td>15:00</td>\n      <td>QPR</td>\n      <td>Bristol City</td>\n      <td>0</td>\n      <td>2</td>\n      <td>A</td>\n      <td>...</td>\n      <td>1.95</td>\n      <td>0.00</td>\n      <td>1.84</td>\n      <td>2.06</td>\n      <td>1.84</td>\n      <td>2.07</td>\n      <td>1.91</td>\n      <td>2.07</td>\n      <td>1.85</td>\n      <td>1.99</td>\n    </tr>\n    <tr>\n      <th>549</th>\n      <td>Championship</td>\n      <td>2223</td>\n      <td>E1</td>\n      <td>08/05/2023</td>\n      <td>15:00</td>\n      <td>Swansea</td>\n      <td>West Brom</td>\n      <td>3</td>\n      <td>2</td>\n      <td>H</td>\n      <td>...</td>\n      <td>2.23</td>\n      <td>0.25</td>\n      <td>1.87</td>\n      <td>2.03</td>\n      <td>1.86</td>\n      <td>2.05</td>\n      <td>1.92</td>\n      <td>2.12</td>\n      <td>1.84</td>\n      <td>2.00</td>\n    </tr>\n    <tr>\n      <th>550</th>\n      <td>Championship</td>\n      <td>2223</td>\n      <td>E1</td>\n      <td>08/05/2023</td>\n      <td>15:00</td>\n      <td>Watford</td>\n      <td>Stoke</td>\n      <td>2</td>\n      <td>0</td>\n      <td>H</td>\n      <td>...</td>\n      <td>1.85</td>\n      <td>0.00</td>\n      <td>1.90</td>\n      <td>2.00</td>\n      <td>1.88</td>\n      <td>2.02</td>\n      <td>1.91</td>\n      <td>2.12</td>\n      <td>1.79</td>\n      <td>2.06</td>\n    </tr>\n    <tr>\n      <th>551</th>\n      <td>Championship</td>\n      <td>2223</td>\n      <td>E1</td>\n      <td>08/05/2023</td>\n      <td>15:00</td>\n      <td>Wigan</td>\n      <td>Rotherham</td>\n      <td>0</td>\n      <td>0</td>\n      <td>D</td>\n      <td>...</td>\n      <td>1.91</td>\n      <td>0.00</td>\n      <td>2.00</td>\n      <td>1.90</td>\n      <td>2.04</td>\n      <td>1.88</td>\n      <td>2.08</td>\n      <td>1.90</td>\n      <td>2.01</td>\n      <td>1.83</td>\n    </tr>\n  </tbody>\n</table>\n<p>552 rows × 108 columns</p>\n</div>"
     },
     "metadata": {},
     "execution_count": 67
    }
   ],
   "source": [
    "#llamando solo a una temporada\n",
    "frames['Championship'][frames['Championship']['temporada']==2223]"
   ]
  },
  {
   "cell_type": "code",
   "execution_count": 81,
   "metadata": {},
   "outputs": [],
   "source": [
    "root='https://www.football-data.co.uk/mmz4281/'\n",
    "archivo_descarga={'Premier League':'E0','Championship':'E1','League 1':'E2','League 2':'E3','Conference':'EC'}\n",
    "diccionario_de_dataframes={}\n",
    "for i in archivo_descarga:\n",
    "    data_frame_auxiliar=[]\n",
    "    for j in range(19,24):\n",
    "        dataframe=pd.read_csv(root+str(j-1)+str(j)+'/'+archivo_descarga[i]+'.csv', encoding='unicode_escape')\n",
    "        dataframe.insert(0,'temporada',str(j-1)+str(j))\n",
    "        dataframe.insert(0,'nombre liga',i)\n",
    "        data_frame_auxiliar.append(dataframe)\n",
    "    diccionario_de_dataframes[i]=data_frame_auxiliar"
   ]
  },
  {
   "cell_type": "code",
   "execution_count": 82,
   "metadata": {},
   "outputs": [
    {
     "output_type": "execute_result",
     "data": {
      "text/plain": [
       "[      nombre liga temporada Div        Date        HomeTeam          AwayTeam  \\\n",
       " 0    Championship      1819  E1  03/08/2018         Reading             Derby   \n",
       " 1    Championship      1819  E1  04/08/2018      Birmingham           Norwich   \n",
       " 2    Championship      1819  E1  04/08/2018       Brentford         Rotherham   \n",
       " 3    Championship      1819  E1  04/08/2018    Bristol City     Nott'm Forest   \n",
       " 4    Championship      1819  E1  04/08/2018         Ipswich         Blackburn   \n",
       " ..            ...       ...  ..         ...             ...               ...   \n",
       " 547  Championship      1819  E1  05/05/2019         Reading        Birmingham   \n",
       " 548  Championship      1819  E1  05/05/2019       Rotherham     Middlesbrough   \n",
       " 549  Championship      1819  E1  05/05/2019  Sheffield Weds               QPR   \n",
       " 550  Championship      1819  E1  05/05/2019           Stoke  Sheffield United   \n",
       " 551  Championship      1819  E1  05/05/2019           Wigan          Millwall   \n",
       " \n",
       "      FTHG  FTAG FTR  HTHG  ...  BbAv<2.5 BbAH BbAHh  BbMxAHH  BbAvAHH  \\\n",
       " 0       1     2   A   0.0  ...      1.67   20  0.25     2.01     1.96   \n",
       " 1       2     2   D   0.0  ...      1.64   19 -0.25     2.23     2.15   \n",
       " 2       5     1   H   2.0  ...      2.21   22 -1.00     1.89     1.83   \n",
       " 3       1     1   D   1.0  ...      1.77   19 -0.25     2.25     2.16   \n",
       " 4       2     2   D   1.0  ...      1.65   18 -0.25     2.36     2.28   \n",
       " ..    ...   ...  ..   ...  ...       ...  ...   ...      ...      ...   \n",
       " 547     0     0   D   0.0  ...      2.03   17  0.00     2.00     1.96   \n",
       " 548     1     2   A   0.0  ...      2.10   18  1.00     1.70     1.63   \n",
       " 549     1     2   A   0.0  ...      2.10   18 -1.00     2.46     2.40   \n",
       " 550     2     2   D   1.0  ...      1.83   17  0.50     1.75     1.69   \n",
       " 551     1     0   H   1.0  ...      1.95   17 -0.50     2.20     2.12   \n",
       " \n",
       "      BbMxAHA  BbAvAHA  PSCH  PSCD  PSCA  \n",
       " 0       1.95     1.88  3.78  3.29  2.19  \n",
       " 1       1.77     1.72  2.86  3.14  2.79  \n",
       " 2       2.09     2.01  1.56  4.38  6.30  \n",
       " 3       1.77     1.71  2.77  3.33  2.74  \n",
       " 4       1.69     1.65  3.23  3.15  2.51  \n",
       " ..       ...      ...   ...   ...   ...  \n",
       " 547     1.95     1.90  2.75  3.40  2.72  \n",
       " 548     2.47     2.29  4.93  4.27  1.69  \n",
       " 549     1.65     1.58  1.98  3.60  4.09  \n",
       " 550     2.25     2.19  3.36  3.45  2.28  \n",
       " 551     1.79     1.73  2.17  3.57  3.52  \n",
       " \n",
       " [552 rows x 64 columns],\n",
       "       nombre liga temporada Div        Date   Time        HomeTeam  \\\n",
       " 0    Championship      1920  E1  02/08/2019  19:45           Luton   \n",
       " 1    Championship      1920  E1  03/08/2019  15:00        Barnsley   \n",
       " 2    Championship      1920  E1  03/08/2019  15:00       Blackburn   \n",
       " 3    Championship      1920  E1  03/08/2019  15:00       Brentford   \n",
       " 4    Championship      1920  E1  03/08/2019  15:00        Millwall   \n",
       " ..            ...       ...  ..         ...    ...             ...   \n",
       " 547  Championship      1920  E1  22/07/2020  19:30   Nott'm Forest   \n",
       " 548  Championship      1920  E1  22/07/2020  19:30         Reading   \n",
       " 549  Championship      1920  E1  22/07/2020  19:30  Sheffield Weds   \n",
       " 550  Championship      1920  E1  22/07/2020  19:30       West Brom   \n",
       " 551  Championship      1920  E1  22/07/2020  19:30           Wigan   \n",
       " \n",
       "           AwayTeam  FTHG  FTAG FTR  ...  AvgC<2.5  AHCh B365CAHH B365CAHA  \\\n",
       " 0    Middlesbrough     3     3   D  ...      1.79 -0.25     1.94     1.96   \n",
       " 1           Fulham     1     0   H  ...      2.13  0.25     2.04     1.86   \n",
       " 2         Charlton     1     2   A  ...      1.84 -0.75     1.88     2.02   \n",
       " 3       Birmingham     0     1   A  ...      1.93 -0.50     2.00     1.90   \n",
       " 4          Preston     1     0   H  ...      1.66 -0.25     2.11     1.79   \n",
       " ..             ...   ...   ...  ..  ...       ...   ...      ...      ...   \n",
       " 547          Stoke     1     4   A  ...      1.76 -0.25     2.01     1.89   \n",
       " 548        Swansea     1     4   A  ...      2.18  0.50     1.90     2.00   \n",
       " 549  Middlesbrough     1     2   A  ...      1.93  0.00     1.82     2.08   \n",
       " 550            QPR     2     2   D  ...      2.61 -1.75     1.93     1.97   \n",
       " 551         Fulham     1     1   D  ...      2.25  0.00     1.98     1.92   \n",
       " \n",
       "      PCAHH  PCAHA  MaxCAHH  MaxCAHA  AvgCAHH  AvgCAHA  \n",
       " 0     1.96   1.96     1.98     1.98     1.94     1.93  \n",
       " 1     2.05   1.87     2.07     1.88     2.02     1.84  \n",
       " 2     1.91   2.01     1.94     2.02     1.89     1.98  \n",
       " 3     2.01   1.91     2.01     1.96     1.96     1.90  \n",
       " 4     2.12   1.81     2.13     1.87     2.08     1.80  \n",
       " ..     ...    ...      ...      ...      ...      ...  \n",
       " 547   1.98   1.93     2.02     1.95     1.96     1.89  \n",
       " 548   1.90   2.00     1.95     2.06     1.88     1.96  \n",
       " 549   1.81   2.09     1.83     2.14     1.79     2.07  \n",
       " 550   1.93   1.97     1.95     2.00     1.92     1.94  \n",
       " 551   1.97   1.93     2.07     1.96     1.99     1.86  \n",
       " \n",
       " [552 rows x 108 columns],\n",
       "       nombre liga temporada Div        Date   Time       HomeTeam  \\\n",
       " 0    Championship      2021  E1  11/09/2020  19:45        Watford   \n",
       " 1    Championship      2021  E1  12/09/2020  12:30     Birmingham   \n",
       " 2    Championship      2021  E1  12/09/2020  12:30        Wycombe   \n",
       " 3    Championship      2021  E1  12/09/2020  15:00       Barnsley   \n",
       " 4    Championship      2021  E1  12/09/2020  15:00    Bournemouth   \n",
       " ..            ...       ...  ..         ...    ...            ...   \n",
       " 547  Championship      2021  E1  08/05/2021  12:30  Middlesbrough   \n",
       " 548  Championship      2021  E1  08/05/2021  12:30  Nott'm Forest   \n",
       " 549  Championship      2021  E1  08/05/2021  12:30            QPR   \n",
       " 550  Championship      2021  E1  08/05/2021  12:30        Reading   \n",
       " 551  Championship      2021  E1  08/05/2021  12:30        Watford   \n",
       " \n",
       "           AwayTeam  FTHG  FTAG FTR  ...  AvgC<2.5  AHCh B365CAHH B365CAHA  \\\n",
       " 0    Middlesbrough     1     0   H  ...      1.65 -0.50     2.05     1.85   \n",
       " 1        Brentford     1     0   H  ...      1.67  0.50     1.97     1.93   \n",
       " 2        Rotherham     0     1   A  ...      1.86  0.25     1.99     1.91   \n",
       " 3            Luton     0     1   A  ...      1.83 -0.50     1.77     2.02   \n",
       " 4        Blackburn     3     2   H  ...      1.89 -0.50     2.06     1.84   \n",
       " ..             ...   ...   ...  ..  ...       ...   ...      ...      ...   \n",
       " 547        Wycombe     0     3   A  ...      2.06 -0.50     1.77     2.02   \n",
       " 548        Preston     1     2   A  ...      1.77 -0.25     1.97     1.93   \n",
       " 549          Luton     3     1   H  ...      2.17 -0.25     1.95     1.95   \n",
       " 550   Huddersfield     2     2   D  ...      2.11 -0.50     1.85     2.05   \n",
       " 551        Swansea     2     0   H  ...      1.80 -0.25     2.08     1.82   \n",
       " \n",
       "      PCAHH  PCAHA  MaxCAHH  MaxCAHA  AvgCAHH  AvgCAHA  \n",
       " 0     2.04   1.85     2.09     1.88     2.02     1.82  \n",
       " 1     1.96   1.93     1.97     1.99     1.91     1.93  \n",
       " 2     1.95   1.93     2.04     1.98     1.93     1.92  \n",
       " 3     1.81   2.10     1.87     2.14     1.80     2.05  \n",
       " 4     2.07   1.85     2.11     1.90     2.02     1.83  \n",
       " ..     ...    ...      ...      ...      ...      ...  \n",
       " 547   1.83   2.07     1.87     2.12     1.81     2.04  \n",
       " 548   1.95   1.95     1.98     1.98     1.93     1.92  \n",
       " 549   1.96   1.94     1.98     2.02     1.90     1.95  \n",
       " 550   1.86   2.05     1.88     2.08     1.84     2.01  \n",
       " 551   2.07   1.85     2.14     1.90     2.04     1.82  \n",
       " \n",
       " [552 rows x 108 columns],\n",
       "       nombre liga temporada Div        Date   Time          HomeTeam  \\\n",
       " 0    Championship      2122  E1  06/08/2021  19:45       Bournemouth   \n",
       " 1    Championship      2122  E1  07/08/2021  15:00         Blackburn   \n",
       " 2    Championship      2122  E1  07/08/2021  15:00      Bristol City   \n",
       " 3    Championship      2122  E1  07/08/2021  15:00           Cardiff   \n",
       " 4    Championship      2122  E1  07/08/2021  15:00             Derby   \n",
       " ..            ...       ...  ..         ...    ...               ...   \n",
       " 547  Championship      2122  E1  07/05/2022  12:30           Preston   \n",
       " 548  Championship      2122  E1  07/05/2022  12:30  Sheffield United   \n",
       " 549  Championship      2122  E1  07/05/2022  12:30             Stoke   \n",
       " 550  Championship      2122  E1  07/05/2022  12:30           Swansea   \n",
       " 551  Championship      2122  E1  07/05/2022  12:30         West Brom   \n",
       " \n",
       "           AwayTeam  FTHG  FTAG FTR  ...  AvgC<2.5  AHCh B365CAHH B365CAHA  \\\n",
       " 0        West Brom     2     2   D  ...      1.84 -0.25     2.13     1.78   \n",
       " 1          Swansea     2     1   H  ...      1.70 -0.25     1.77     2.14   \n",
       " 2        Blackpool     1     1   D  ...      1.66 -0.25     1.90     2.00   \n",
       " 3         Barnsley     1     1   D  ...      1.62 -0.25     2.05     1.75   \n",
       " 4     Huddersfield     1     1   D  ...      1.60 -0.25     1.88     2.02   \n",
       " ..             ...   ...   ...  ..  ...       ...   ...      ...      ...   \n",
       " 547  Middlesbrough     4     1   H  ...      2.15  0.75     1.84     2.06   \n",
       " 548         Fulham     4     0   H  ...      2.09 -0.25     1.75     2.05   \n",
       " 549       Coventry     1     1   D  ...      2.15 -0.25     1.91     1.99   \n",
       " 550            QPR     0     1   A  ...      2.71 -0.50     1.92     1.98   \n",
       " 551       Barnsley     4     0   H  ...      2.67 -1.75     1.88     2.02   \n",
       " \n",
       "      PCAHH  PCAHA  MaxCAHH  MaxCAHA  AvgCAHH  AvgCAHA  \n",
       " 0     2.13   1.80     2.16     1.83     2.09     1.77  \n",
       " 1     1.83   2.09     1.87     2.17     1.81     2.04  \n",
       " 2     1.92   1.99     1.92     2.01     1.89     1.95  \n",
       " 3     2.14   1.80     2.19     1.80     2.11     1.75  \n",
       " 4     1.88   2.01     1.90     2.07     1.87     1.98  \n",
       " ..     ...    ...      ...      ...      ...      ...  \n",
       " 547   1.88   2.03     2.00     2.09     1.89     1.96  \n",
       " 548   1.79   2.12     1.85     2.13     1.81     2.03  \n",
       " 549   1.95   1.95     1.95     2.01     1.90     1.95  \n",
       " 550   1.94   1.96     2.00     1.99     1.95     1.90  \n",
       " 551   1.91   1.98     1.99     2.06     1.90     1.95  \n",
       " \n",
       " [552 rows x 108 columns],\n",
       "       nombre liga temporada Div        Date   Time      HomeTeam  \\\n",
       " 0    Championship      2223  E1  29/07/2022  20:00  Huddersfield   \n",
       " 1    Championship      2223  E1  30/07/2022  15:00     Blackburn   \n",
       " 2    Championship      2223  E1  30/07/2022  15:00     Blackpool   \n",
       " 3    Championship      2223  E1  30/07/2022  15:00       Cardiff   \n",
       " 4    Championship      2223  E1  30/07/2022  15:00          Hull   \n",
       " ..            ...       ...  ..         ...    ...           ...   \n",
       " 547  Championship      2223  E1  08/05/2023  15:00       Preston   \n",
       " 548  Championship      2223  E1  08/05/2023  15:00           QPR   \n",
       " 549  Championship      2223  E1  08/05/2023  15:00       Swansea   \n",
       " 550  Championship      2223  E1  08/05/2023  15:00       Watford   \n",
       " 551  Championship      2223  E1  08/05/2023  15:00         Wigan   \n",
       " \n",
       "          AwayTeam  FTHG  FTAG FTR  ...  AvgC<2.5  AHCh B365CAHH B365CAHA  \\\n",
       " 0         Burnley     0     1   A  ...      1.63  0.00     2.09     1.81   \n",
       " 1             QPR     1     0   H  ...      1.86 -0.50     1.99     1.91   \n",
       " 2         Reading     1     0   H  ...      1.82 -0.50     2.08     1.82   \n",
       " 3         Norwich     1     0   H  ...      1.71  0.25     2.01     1.89   \n",
       " 4    Bristol City     2     1   H  ...      1.73 -0.25     2.10     1.70   \n",
       " ..            ...   ...   ...  ..  ...       ...   ...      ...      ...   \n",
       " 547    Sunderland     0     3   A  ...      2.24  0.50     1.82     2.08   \n",
       " 548  Bristol City     0     2   A  ...      1.95  0.00     1.84     2.06   \n",
       " 549     West Brom     3     2   H  ...      2.23  0.25     1.87     2.03   \n",
       " 550         Stoke     2     0   H  ...      1.85  0.00     1.90     2.00   \n",
       " 551     Rotherham     0     0   D  ...      1.91  0.00     2.00     1.90   \n",
       " \n",
       "      PCAHH  PCAHA  MaxCAHH  MaxCAHA  AvgCAHH  AvgCAHA  \n",
       " 0     2.10   1.82     2.14     1.83     2.09     1.78  \n",
       " 1     2.01   1.90     2.01     1.95     1.97     1.88  \n",
       " 2     2.06   1.86     2.11     1.86     2.04     1.82  \n",
       " 3     2.00   1.90     2.03     2.00     1.95     1.89  \n",
       " 4     2.12   1.81     2.17     1.81     2.09     1.77  \n",
       " ..     ...    ...      ...      ...      ...      ...  \n",
       " 547   1.83   2.09     1.95     2.09     1.86     1.97  \n",
       " 548   1.84   2.07     1.91     2.07     1.85     1.99  \n",
       " 549   1.86   2.05     1.92     2.12     1.84     2.00  \n",
       " 550   1.88   2.02     1.91     2.12     1.79     2.06  \n",
       " 551   2.04   1.88     2.08     1.90     2.01     1.83  \n",
       " \n",
       " [552 rows x 108 columns]]"
      ]
     },
     "metadata": {},
     "execution_count": 82
    }
   ],
   "source": [
    "diccionario_de_dataframes['Championship']"
   ]
  },
  {
   "cell_type": "code",
   "execution_count": null,
   "metadata": {},
   "outputs": [],
   "source": []
  }
 ]
}